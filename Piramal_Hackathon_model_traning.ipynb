{
  "cells": [
    {
      "cell_type": "code",
      "execution_count": null,
      "metadata": {
        "id": "34zNUpTJxvmv"
      },
      "outputs": [],
      "source": [
        "import gc\n",
        "import pandas as pd\n",
        "import numpy as np"
      ]
    },
    {
      "cell_type": "code",
      "execution_count": null,
      "metadata": {
        "id": "3T8AnjW-zl_I"
      },
      "outputs": [],
      "source": [
        "%%capture\n",
        "%pip install dask[dataframe]\n",
        "%pip install \"dask[distributed]\"\n",
        "%pip install memory_profiler"
      ]
    },
    {
      "cell_type": "code",
      "execution_count": null,
      "metadata": {
        "cellView": "form",
        "colab": {
          "base_uri": "https://localhost:8080/"
        },
        "id": "SDog3MrY9OUr",
        "outputId": "c3b9f579-57b5-4f15-c21f-a4c2dd267ba9"
      },
      "outputs": [
        {
          "output_type": "stream",
          "name": "stdout",
          "text": [
            "Drive already mounted at /content/drive; to attempt to forcibly remount, call drive.mount(\"/content/drive\", force_remount=True).\n"
          ]
        }
      ],
      "source": [
        "#@title Mounting Collab\n",
        "\n",
        "from google.colab import drive\n",
        "import pandas as pd\n",
        "\n",
        "# Step 1: Mount Google Drive\n",
        "drive.mount('/content/drive')\n",
        "\n",
        "\n"
      ]
    },
    {
      "cell_type": "code",
      "execution_count": null,
      "metadata": {
        "colab": {
          "base_uri": "https://localhost:8080/"
        },
        "id": "yQXisiAEp5Ww",
        "outputId": "ca295049-34cf-46c8-fd1b-bbcbb2ddad41",
        "collapsed": true
      },
      "outputs": [
        {
          "output_type": "stream",
          "name": "stderr",
          "text": [
            "<ipython-input-6-a01db46bb7f4>:7: DtypeWarning: Columns (126,128,143) have mixed types. Specify dtype option on import or set low_memory=False.\n",
            "  train_df = pd.read_csv(\"/content/drive/MyDrive/train_1.csv\")\n",
            "<ipython-input-6-a01db46bb7f4>:8: DtypeWarning: Columns (675,676,677) have mixed types. Specify dtype option on import or set low_memory=False.\n",
            "  train2_1_df = pd.read_csv(\"/content/drive/MyDrive/train_2_1.csv\")\n",
            "<ipython-input-6-a01db46bb7f4>:9: DtypeWarning: Columns (675,676,677) have mixed types. Specify dtype option on import or set low_memory=False.\n",
            "  train2_2_df = pd.read_csv(\"/content/drive/MyDrive/train_2_2.csv\")\n"
          ]
        },
        {
          "output_type": "stream",
          "name": "stdout",
          "text": [
            "train_df: (100000, 168)\n",
            "train2_1_df: (90300, 678)\n",
            "train2_2_df: (47976, 678)\n"
          ]
        }
      ],
      "source": [
        "#@title Reading files both train and test\n",
        "\n",
        "import pandas as pd\n",
        "from sklearn.model_selection import train_test_split\n",
        "\n",
        "# Load the data with the first 1000 rows\n",
        "train_df = pd.read_csv(\"/content/drive/MyDrive/train_1.csv\")\n",
        "train2_1_df = pd.read_csv(\"/content/drive/MyDrive/train_2_1.csv\")\n",
        "train2_2_df = pd.read_csv(\"/content/drive/MyDrive/train_2_2.csv\")\n",
        "\n",
        "test_df = pd.read_csv(\"/content/drive/MyDrive/test_1.csv\")\n",
        "test2_1_df = pd.read_csv(\"/content/drive/MyDrive/test_2_1.csv\")\n",
        "test2_2_df = pd.read_csv(\"/content/drive/MyDrive/test_2_2.csv\")\n",
        "\n",
        "\n",
        "# Display the shapes of each component to verify\n",
        "print(\"train_df:\", train_df.shape)\n",
        "print(\"train2_1_df:\", train2_1_df.shape)\n",
        "print(\"train2_2_df:\", train2_2_df.shape)\n"
      ]
    },
    {
      "cell_type": "code",
      "execution_count": null,
      "metadata": {
        "colab": {
          "base_uri": "https://localhost:8080/"
        },
        "id": "MkQMkLAgJ0WR",
        "outputId": "f4ea317f-fcb7-4028-fd8b-ca7c5074076d",
        "collapsed": true
      },
      "outputs": [
        {
          "output_type": "stream",
          "name": "stdout",
          "text": [
            "Processing train2_1...\n",
            "Processing train2_2...\n",
            "Merging training dataframes...\n",
            "Processing categorical columns...\n"
          ]
        },
        {
          "output_type": "stream",
          "name": "stderr",
          "text": [
            "<ipython-input-7-18babcb41b28>:64: PerformanceWarning: DataFrame is highly fragmented.  This is usually the result of calling `frame.insert` many times, which has poor performance.  Consider joining all columns at once using pd.concat(axis=1) instead. To get a de-fragmented frame, use `newframe = frame.copy()`\n",
            "  df['col_125_NR'] = (df['col_125'] == 'NR').astype('int8')\n",
            "<ipython-input-7-18babcb41b28>:65: PerformanceWarning: DataFrame is highly fragmented.  This is usually the result of calling `frame.insert` many times, which has poor performance.  Consider joining all columns at once using pd.concat(axis=1) instead. To get a de-fragmented frame, use `newframe = frame.copy()`\n",
            "  df['col_125_numeric'] = (\n"
          ]
        },
        {
          "output_type": "stream",
          "name": "stdout",
          "text": [
            "Processing test2_1...\n",
            "Processing test2_2...\n",
            "Merging test dataframes...\n",
            "Processing categorical columns...\n"
          ]
        },
        {
          "output_type": "stream",
          "name": "stderr",
          "text": [
            "<ipython-input-7-18babcb41b28>:64: PerformanceWarning: DataFrame is highly fragmented.  This is usually the result of calling `frame.insert` many times, which has poor performance.  Consider joining all columns at once using pd.concat(axis=1) instead. To get a de-fragmented frame, use `newframe = frame.copy()`\n",
            "  df['col_125_NR'] = (df['col_125'] == 'NR').astype('int8')\n",
            "<ipython-input-7-18babcb41b28>:65: PerformanceWarning: DataFrame is highly fragmented.  This is usually the result of calling `frame.insert` many times, which has poor performance.  Consider joining all columns at once using pd.concat(axis=1) instead. To get a de-fragmented frame, use `newframe = frame.copy()`\n",
            "  df['col_125_numeric'] = (\n"
          ]
        }
      ],
      "source": [
        "#@title Proess Train and test data\n",
        "\n",
        "import pandas as pd\n",
        "import numpy as np\n",
        "from typing import Dict, List, Tuple\n",
        "import gc\n",
        "\n",
        "class DataProcessor:\n",
        "    def __init__(self):\n",
        "        self.encoders: Dict = {}\n",
        "        self.categorical_columns = [\n",
        "            'prod', 'col_114', 'col_117', 'col_118', 'col_123',\n",
        "            'col_140', 'col_150', 'col_156', 'col_157', 'col_158', 'col_161', 'col_148'\n",
        "        ]\n",
        "        self.cols_to_drop = [f'add_{i}' for i in [431, 671, 672, 673, 675, 676, 677]]\n",
        "\n",
        "    def calculate_means_for_duplicates(self, df: pd.DataFrame, suffix: str) -> pd.DataFrame:\n",
        "        \"\"\"Calculate means for each unique ID in the additional data\"\"\"\n",
        "        # Drop unnecessary columns\n",
        "        df = df.drop(columns=[col for col in self.cols_to_drop if col in df.columns])\n",
        "\n",
        "        # Get numeric columns\n",
        "        numeric_cols = df.select_dtypes(exclude=['object']).columns\n",
        "\n",
        "        # Group by ID and calculate means\n",
        "        means_df = df.groupby('id')[numeric_cols].mean().reset_index()\n",
        "\n",
        "        # Add suffix to column names except 'id'\n",
        "        rename_dict = {col: f\"{col}{suffix}\" for col in means_df.columns if col != 'id'}\n",
        "        means_df = means_df.rename(columns=rename_dict)\n",
        "\n",
        "        del df\n",
        "        gc.collect()\n",
        "\n",
        "        return means_df\n",
        "\n",
        "    def encode_categorical(self, df: pd.DataFrame, is_training: bool = True) -> pd.DataFrame:\n",
        "        \"\"\"\n",
        "        Encode categorical columns.\n",
        "        During training, create encodings; during testing, use existing encodings.\n",
        "        \"\"\"\n",
        "        for col in self.categorical_columns:\n",
        "            if col in df.columns:\n",
        "                if is_training:\n",
        "                    # During training, create new encodings\n",
        "                    unique_values = df[col].unique()\n",
        "                    self.encoders[col] = {val: idx + 1 for idx, val in enumerate(unique_values)}\n",
        "\n",
        "                # Transform values using encodings (same for both train and test)\n",
        "                df[col] = (\n",
        "                    df[col]\n",
        "                    .map(self.encoders.get(col, {}))\n",
        "                    .fillna(0)\n",
        "                    .astype('int32')\n",
        "                )\n",
        "        return df\n",
        "\n",
        "    def process_special_columns(self, df: pd.DataFrame) -> pd.DataFrame:\n",
        "        \"\"\"Process special columns that need specific handling\"\"\"\n",
        "        if 'col_116' in df.columns:\n",
        "            df['col_116'] = pd.to_numeric(df['col_116'], errors='coerce').fillna(0).astype('float32')\n",
        "\n",
        "        if 'col_125' in df.columns:\n",
        "            df['col_125_NR'] = (df['col_125'] == 'NR').astype('int8')\n",
        "            df['col_125_numeric'] = (\n",
        "                pd.to_numeric(df['col_125'].replace('NR', np.nan), errors='coerce')\n",
        "                .fillna(0)\n",
        "                .astype('float32')\n",
        "            )\n",
        "            df = df.drop('col_125', axis=1)\n",
        "\n",
        "        return df\n",
        "\n",
        "    def fit_transform(self, train_df: pd.DataFrame, train2_1: pd.DataFrame, train2_2: pd.DataFrame) -> pd.DataFrame:\n",
        "        \"\"\"\n",
        "        Process training data:\n",
        "        1. Calculate means for additional training data independently\n",
        "        2. Create categorical encodings\n",
        "        3. Process special columns\n",
        "        \"\"\"\n",
        "        # Calculate means for additional training data\n",
        "        print(\"Processing train2_1...\")\n",
        "        train2_1_means = self.calculate_means_for_duplicates(train2_1.copy(), '_21')\n",
        "        print(\"Processing train2_2...\")\n",
        "        train2_2_means = self.calculate_means_for_duplicates(train2_2.copy(), '_22')\n",
        "\n",
        "        # Merge all training dataframes\n",
        "        print(\"Merging training dataframes...\")\n",
        "        merged_df = (train_df.merge(train2_1_means, on='id', how='left')\n",
        "                           .merge(train2_2_means, on='id', how='left'))\n",
        "\n",
        "        # Fill missing values for numeric columns\n",
        "        numeric_cols = merged_df.select_dtypes(include=['float32', 'float64', 'int32', 'int64']).columns\n",
        "        merged_df[numeric_cols] = merged_df[numeric_cols].fillna(0)\n",
        "\n",
        "        # Create encodings and transform categorical columns\n",
        "        print(\"Processing categorical columns...\")\n",
        "        merged_df = self.encode_categorical(merged_df, is_training=True)\n",
        "\n",
        "        # Process special columns\n",
        "        merged_df = self.process_special_columns(merged_df)\n",
        "\n",
        "        return merged_df\n",
        "\n",
        "    def transform(self, test_df: pd.DataFrame, test2_1: pd.DataFrame, test2_2: pd.DataFrame) -> pd.DataFrame:\n",
        "        \"\"\"\n",
        "        Process test data:\n",
        "        1. Calculate means for additional test data independently\n",
        "        2. Use existing categorical encodings\n",
        "        3. Process special columns\n",
        "        \"\"\"\n",
        "        # Calculate means for additional test data\n",
        "        print(\"Processing test2_1...\")\n",
        "        test2_1_means = self.calculate_means_for_duplicates(test2_1.copy(), '_21')\n",
        "        print(\"Processing test2_2...\")\n",
        "        test2_2_means = self.calculate_means_for_duplicates(test2_2.copy(), '_22')\n",
        "\n",
        "        # Merge all test dataframes\n",
        "        print(\"Merging test dataframes...\")\n",
        "        merged_df = (test_df.merge(test2_1_means, on='id', how='left')\n",
        "                          .merge(test2_2_means, on='id', how='left'))\n",
        "\n",
        "        # Fill missing values for numeric columns\n",
        "        numeric_cols = merged_df.select_dtypes(include=['float32', 'float64', 'int32', 'int64']).columns\n",
        "        merged_df[numeric_cols] = merged_df[numeric_cols].fillna(0)\n",
        "\n",
        "        # Transform categorical columns using existing encodings\n",
        "        print(\"Processing categorical columns...\")\n",
        "        merged_df = self.encode_categorical(merged_df, is_training=False)\n",
        "\n",
        "        # Process special columns\n",
        "        merged_df = self.process_special_columns(merged_df)\n",
        "\n",
        "        return merged_df\n",
        "\n",
        "# Usage example:\n",
        "processor = DataProcessor()\n",
        "\n",
        "# First process training data to create encodings\n",
        "train_processed = processor.fit_transform(train_df, train2_1_df, train2_2_df)\n",
        "\n",
        "# Then process test data using the same encodings\n",
        "test_processed = processor.transform(test_df, test2_1_df, test2_2_df)"
      ]
    },
    {
      "cell_type": "code",
      "execution_count": null,
      "metadata": {
        "id": "WwsUk-Eycmdz"
      },
      "outputs": [],
      "source": [
        "#@title Memory usage\n",
        "\n",
        "import psutil\n",
        "\n",
        "# Current memory usage in MB\n",
        "used_memory = psutil.Process().memory_info().rss / 1024 / 1024\n",
        "\n",
        "# Total RAM in MB (12.7 GB = 12.7 * 1024 MB)\n",
        "total_memory = 12.7 * 1024\n",
        "\n",
        "# Calculate percentage usage\n",
        "percentage_usage = (used_memory / total_memory) * 100\n",
        "\n",
        "print(f\"Current memory usage: {used_memory:.2f} MB\")\n",
        "print(f\"Percentage of total RAM used: {percentage_usage:.2f}%\")\n"
      ]
    },
    {
      "cell_type": "code",
      "execution_count": null,
      "metadata": {
        "colab": {
          "base_uri": "https://localhost:8080/"
        },
        "id": "WFYwOUgxLC1h",
        "outputId": "bafa1968-00c2-4c2b-efa0-95c16b437071"
      },
      "outputs": [
        {
          "output_type": "stream",
          "name": "stdout",
          "text": [
            "Categorical Columns: Index(['loan_id', 'id'], dtype='object')\n"
          ]
        }
      ],
      "source": [
        "\n",
        "\n",
        "import pandas as pd\n",
        "\n",
        "def process_dataframe(df: pd.DataFrame) -> pd.DataFrame:\n",
        "    \"\"\"\n",
        "    Process the given DataFrame by:\n",
        "    1. Extracting categorical columns.\n",
        "    2. Dropping 'col_125' if it exists.\n",
        "\n",
        "    Args:\n",
        "        df (pd.DataFrame): The input DataFrame to process.\n",
        "\n",
        "    Returns:\n",
        "        pd.DataFrame: The processed DataFrame.\n",
        "    \"\"\"\n",
        "    # Extract categorical columns\n",
        "    categorical_columns = df.select_dtypes(include=['object', 'category']).columns\n",
        "\n",
        "    # Drop 'col_125' if it exists\n",
        "    if 'col_125' in df.columns:\n",
        "        df.drop('col_125', axis=1, inplace=True)\n",
        "\n",
        "    print(\"Categorical Columns:\", categorical_columns)\n",
        "    return df\n",
        "\n",
        "\n",
        "# df_train = process_dataframe(df_train)\n",
        "test_processed = process_dataframe(test_processed)\n"
      ]
    },
    {
      "cell_type": "code",
      "source": [],
      "metadata": {
        "id": "J9AwHNl_GjYq"
      },
      "execution_count": null,
      "outputs": []
    },
    {
      "cell_type": "code",
      "execution_count": null,
      "metadata": {
        "id": "p7ccmV_TWqq-"
      },
      "outputs": [],
      "source": [
        "#@title Ram usage\n",
        "\n",
        "import psutil\n",
        "\n",
        "# Current memory usage in MB\n",
        "used_memory = psutil.Process().memory_info().rss / 1024 / 1024\n",
        "\n",
        "# Total RAM in MB (12.7 GB = 12.7 * 1024 MB)\n",
        "total_memory = 12.7 * 1024\n",
        "\n",
        "# Calculate percentage usage\n",
        "percentage_usage = (used_memory / total_memory) * 100\n",
        "\n",
        "print(f\"Current memory usage: {used_memory:.2f} MB\")\n",
        "print(f\"Percentage of total RAM used: {percentage_usage:.2f}%\")\n"
      ]
    },
    {
      "cell_type": "code",
      "execution_count": null,
      "metadata": {
        "colab": {
          "base_uri": "https://localhost:8080/"
        },
        "collapsed": true,
        "id": "8F0oXhEdYfV9",
        "outputId": "c8d74d9a-f5bb-4521-9e43-d0272622f6d5",
        "cellView": "form"
      },
      "outputs": [
        {
          "output_type": "stream",
          "name": "stderr",
          "text": [
            "\n",
            "PYDEV DEBUGGER WARNING:\n",
            "sys.settrace() should not be used when the debugger is being used.\n",
            "This may cause the debugger to stop working correctly.\n",
            "If this is needed, please check: \n",
            "http://pydev.blogspot.com/2007/06/why-cant-pydev-debugger-work-with.html\n",
            "to see how to restore the debug tracing back correctly.\n",
            "Call Location:\n",
            "  File \"/usr/local/lib/python3.10/dist-packages/memory_profiler.py\", line 847, in enable\n",
            "    sys.settrace(self.trace_memory_usage)\n",
            "\n"
          ]
        },
        {
          "output_type": "stream",
          "name": "stdout",
          "text": [
            "ERROR: Could not find file <ipython-input-9-29dc1786fd17>\n",
            "NOTE: %mprun can only be used on functions defined in physical files, and not in the IPython environment.\n",
            "orignal_cols not dropped\n"
          ]
        },
        {
          "output_type": "stream",
          "name": "stderr",
          "text": [
            "\n",
            "PYDEV DEBUGGER WARNING:\n",
            "sys.settrace() should not be used when the debugger is being used.\n",
            "This may cause the debugger to stop working correctly.\n",
            "If this is needed, please check: \n",
            "http://pydev.blogspot.com/2007/06/why-cant-pydev-debugger-work-with.html\n",
            "to see how to restore the debug tracing back correctly.\n",
            "Call Location:\n",
            "  File \"/usr/local/lib/python3.10/dist-packages/memory_profiler.py\", line 850, in disable\n",
            "    sys.settrace(self._original_trace_function)\n",
            "\n"
          ]
        }
      ],
      "source": [
        "#@title feature difference creator\n",
        "\n",
        "\n",
        "import pandas as pd\n",
        "import numpy as np\n",
        "import gc\n",
        "from typing import List, Tuple, Optional\n",
        "import psutil\n",
        "import os\n",
        "import time\n",
        "from memory_profiler import profile\n",
        "\n",
        "class FeatureDifferenceCreator:\n",
        "    def __init__(self, batch_size: int = 1000):\n",
        "        \"\"\"\n",
        "        Initialize the feature difference creator.\n",
        "\n",
        "        Args:\n",
        "            batch_size: Number of columns to process at once\n",
        "        \"\"\"\n",
        "        self.batch_size = batch_size\n",
        "\n",
        "    def _get_column_pairs(self, df: pd.DataFrame) -> List[Tuple[str, str]]:\n",
        "        \"\"\"Get pairs of columns to calculate differences.\"\"\"\n",
        "        cols_21 = [col for col in df.columns if col.endswith('_21') and col != 'col_21']\n",
        "        column_pairs = []\n",
        "\n",
        "        for col_21 in cols_21:\n",
        "            col_22 = col_21.replace('_21', '_22')\n",
        "            if col_22 in df.columns:\n",
        "                column_pairs.append((col_21, col_22))\n",
        "\n",
        "        return column_pairs\n",
        "\n",
        "    def _create_batch_differences(self,\n",
        "                                  df: pd.DataFrame,\n",
        "                                  column_pairs: List[Tuple[str, str]],\n",
        "                                  drop_original: bool = True) -> Tuple[pd.DataFrame, List[str]]:\n",
        "        \"\"\"Create differences for a batch of columns.\"\"\"\n",
        "        diff_data = {}\n",
        "        cols_to_drop = []\n",
        "\n",
        "        for col_21, col_22 in column_pairs:\n",
        "            diff_col = col_21.replace('_21', '_diff')\n",
        "            diff_data[diff_col] = df[col_22] - df[col_21]\n",
        "\n",
        "            if drop_original:\n",
        "                cols_to_drop.extend([col_21, col_22])\n",
        "\n",
        "        return pd.DataFrame(diff_data), cols_to_drop\n",
        "\n",
        "    @profile\n",
        "    def create_difference_features(self,\n",
        "                                   df: pd.DataFrame,\n",
        "                                   drop_original: bool = True) -> pd.DataFrame:\n",
        "        \"\"\"\n",
        "        Create difference features using pandas with memory efficiency.\n",
        "\n",
        "        Args:\n",
        "            df: Input dataframe\n",
        "            drop_original: Whether to drop original columns\n",
        "\n",
        "        Returns:\n",
        "            DataFrame with difference features\n",
        "        \"\"\"\n",
        "        # Get column pairs for differences\n",
        "        column_pairs = self._get_column_pairs(df)\n",
        "\n",
        "        # Process in batches\n",
        "        all_diffs = []\n",
        "        all_cols_to_drop = []\n",
        "\n",
        "        for i in range(0, len(column_pairs), self.batch_size):\n",
        "            batch_pairs = column_pairs[i:i + self.batch_size]\n",
        "\n",
        "            # Create differences for current batch\n",
        "            batch_diffs, cols_to_drop = self._create_batch_differences(\n",
        "                df, batch_pairs, drop_original\n",
        "            )\n",
        "\n",
        "            all_diffs.append(batch_diffs)\n",
        "            all_cols_to_drop.extend(cols_to_drop)\n",
        "\n",
        "            # Clear memory\n",
        "            gc.collect()\n",
        "\n",
        "        # Combine all differences\n",
        "        if all_diffs:\n",
        "            # Drop original columns if requested\n",
        "            if drop_original:\n",
        "              print(\"orignal_cols not dropped\")\n",
        "                # df = df.drop(columns=all_cols_to_drop)\n",
        "\n",
        "            # Concatenate all differences\n",
        "            result = pd.concat([df] + all_diffs, axis=1)\n",
        "        else:\n",
        "            result = df\n",
        "\n",
        "        # Clear memory\n",
        "        del all_diffs, df\n",
        "        gc.collect()\n",
        "\n",
        "        return result\n",
        "\n",
        "class PerformanceMonitor:\n",
        "    @staticmethod\n",
        "    def get_memory_usage() -> float:\n",
        "        \"\"\"Get current memory usage in MB.\"\"\"\n",
        "        process = psutil.Process(os.getpid())\n",
        "        return process.memory_info().rss / 1024 / 1024\n",
        "\n",
        "    @staticmethod\n",
        "    def monitor_performance(func):\n",
        "        \"\"\"Decorator to monitor performance of a function.\"\"\"\n",
        "        def wrapper(*args, **kwargs):\n",
        "            start_time = time.time()\n",
        "            initial_memory = PerformanceMonitor.get_memory_usage()\n",
        "            print(f\"Initial memory usage: {initial_memory:.2f} MB\")\n",
        "\n",
        "            try:\n",
        "                result = func(*args, **kwargs)\n",
        "\n",
        "                end_time = time.time()\n",
        "                final_memory = PerformanceMonitor.get_memory_usage()\n",
        "\n",
        "                print(f\"\\nPerformance Metrics:\")\n",
        "                print(f\"Final memory usage: {final_memory:.2f} MB\")\n",
        "                print(f\"Memory change: {final_memory - initial_memory:.2f} MB\")\n",
        "                print(f\"Processing time: {end_time - start_time:.2f} seconds\")\n",
        "                print(f\"Final dataframe shape: {result.shape}\")\n",
        "\n",
        "                return result\n",
        "\n",
        "            except Exception as e:\n",
        "                print(f\"Error occurred: {str(e)}\")\n",
        "                return None\n",
        "\n",
        "        return wrapper\n",
        "\n",
        "def process_with_monitoring(df: pd.DataFrame,\n",
        "                            batch_size: int = 1000) -> Optional[pd.DataFrame]:\n",
        "    \"\"\"\n",
        "    Process dataframe with performance monitoring.\n",
        "\n",
        "    Args:\n",
        "        df: Input dataframe\n",
        "        batch_size: Number of columns to process at once\n",
        "\n",
        "    Returns:\n",
        "        Processed dataframe or None if error occurs\n",
        "    \"\"\"\n",
        "    creator = FeatureDifferenceCreator(batch_size)\n",
        "\n",
        "    @PerformanceMonitor.monitor_performance\n",
        "    def process():\n",
        "        return creator.create_difference_features(df)\n",
        "\n",
        "    return process()\n",
        "\n",
        "# Example usage:\n",
        "# Initialize with custom settings\n",
        "creator = FeatureDifferenceCreator(batch_size=1000)\n",
        "\n",
        "# # Process with monitoring\n",
        "# processed_df = process_with_monitoring(df=your_dataframe, batch_size=1000)\n",
        "\n",
        "# # Or process directly\n",
        "# df_train = creator.create_difference_features(df_train)\n",
        "test_processed = creator.create_difference_features(test_processed)"
      ]
    },
    {
      "cell_type": "code",
      "execution_count": null,
      "metadata": {
        "colab": {
          "base_uri": "https://localhost:8080/"
        },
        "id": "SbLFVFT9We00",
        "outputId": "28252b8d-4fdf-4bd5-9fb0-b3ae2e5cf48f",
        "cellView": "form"
      },
      "outputs": [
        {
          "output_type": "stream",
          "name": "stderr",
          "text": [
            "Optimizing Memory Usage: 100%|██████████| 2178/2178 [00:04<00:00, 454.52column/s]\n"
          ]
        },
        {
          "output_type": "stream",
          "name": "stdout",
          "text": [
            "Memory usage decreased from 1655.01 MB to 457.10 MB (72.4% reduction)\n"
          ]
        }
      ],
      "source": [
        "#@title Reduce memory usage\n",
        "\n",
        "import pandas as pd\n",
        "import numpy as np\n",
        "\n",
        "import gc\n",
        "from tqdm import tqdm\n",
        "\n",
        "def reduce_mem_usage(df):\n",
        "    start_mem = df.memory_usage().sum() / 1024**2\n",
        "    for col in tqdm(df.columns, desc='Optimizing Memory Usage', unit='column'):\n",
        "        col_type = df[col].dtype\n",
        "\n",
        "        if col_type != object:\n",
        "            c_min = df[col].min()\n",
        "            c_max = df[col].max()\n",
        "            if str(col_type)[:3] == 'int':\n",
        "                if c_min > np.iinfo(np.int8).min and c_max < np.iinfo(np.int8).max:\n",
        "                    df[col] = df[col].astype(np.int8)\n",
        "                elif c_min > np.iinfo(np.int16).min and c_max < np.iinfo(np.int16).max:\n",
        "                    df[col] = df[col].astype(np.int16)\n",
        "                elif c_min > np.iinfo(np.int32).min and c_max < np.iinfo(np.int32).max:\n",
        "                    df[col] = df[col].astype(np.int32)\n",
        "                elif c_min > np.iinfo(np.int64).min and c_max < np.iinfo(np.int64).max:\n",
        "                    df[col] = df[col].astype(np.int64)\n",
        "            else:\n",
        "                if c_min > np.finfo(np.float16).min and c_max < np.finfo(np.float16).max:\n",
        "                    df[col] = df[col].astype(np.float16)\n",
        "                elif c_min > np.finfo(np.float32).min and c_max < np.finfo(np.float32).max:\n",
        "                    df[col] = df[col].astype(np.float32)\n",
        "                else:\n",
        "                    df[col] = df[col].astype(np.float64)\n",
        "\n",
        "    end_mem = df.memory_usage().sum() / 1024**2\n",
        "    print(f'Memory usage decreased from {start_mem:.2f} MB to {end_mem:.2f} MB '\n",
        "          f'({100 * (start_mem - end_mem) / start_mem:.1f}% reduction)')\n",
        "    return df\n",
        "\n",
        "# Optimize memory usage of the input data\n",
        "# df_train = reduce_mem_usage(df_train)\n",
        "test_processed = reduce_mem_usage(test_processed)"
      ]
    },
    {
      "cell_type": "code",
      "execution_count": null,
      "metadata": {
        "id": "MAJXsD3sXD7J"
      },
      "outputs": [],
      "source": [
        "import psutil\n",
        "\n",
        "# Current memory usage in MB\n",
        "used_memory = psutil.Process().memory_info().rss / 1024 / 1024\n",
        "\n",
        "# Total RAM in MB (12.7 GB = 12.7 * 1024 MB)\n",
        "total_memory = 12.7 * 1024\n",
        "\n",
        "# Calculate percentage usage\n",
        "percentage_usage = (used_memory / total_memory) * 100\n",
        "\n",
        "print(f\"Current memory usage: {used_memory:.2f} MB\")\n",
        "print(f\"Percentage of total RAM used: {percentage_usage:.2f}%\")\n"
      ]
    },
    {
      "cell_type": "code",
      "execution_count": null,
      "metadata": {
        "id": "SX68UCePZ76g"
      },
      "outputs": [],
      "source": [
        "# Fill NaN values with 0 in the DataFrame\n",
        "test_processed.fillna(0, inplace=True)"
      ]
    },
    {
      "cell_type": "code",
      "execution_count": null,
      "metadata": {
        "id": "HbD58ZBlOaF9",
        "cellView": "form",
        "collapsed": true
      },
      "outputs": [],
      "source": [
        "#@title Feature Selection\n",
        "import pandas as pd\n",
        "import numpy as np\n",
        "import gc\n",
        "import psutil\n",
        "import dask.dataframe as dd\n",
        "import dask.array as da\n",
        "from dask.distributed import Client, LocalCluster\n",
        "from sklearn.feature_selection import mutual_info_classif\n",
        "from sklearn.ensemble import RandomForestClassifier\n",
        "\n",
        "def print_memory_usage(message=\"\"):\n",
        "    \"\"\"Print current memory usage\"\"\"\n",
        "    memory_gb = psutil.Process().memory_info().rss / (1024 ** 3)\n",
        "    print(f\"{message} Memory usage: {memory_gb:.2f} GB\")\n",
        "\n",
        "def setup_dask_client(n_workers=None, memory_limit=\"4GB\"):\n",
        "    \"\"\"Setup Dask client with memory limits\"\"\"\n",
        "    if n_workers is None:\n",
        "        n_workers = max(1, psutil.cpu_count(logical=False) - 1)\n",
        "    cluster = LocalCluster(n_workers=n_workers,\n",
        "                         threads_per_worker=2,\n",
        "                         memory_limit=memory_limit)\n",
        "    return Client(cluster)\n",
        "\n",
        "def remove_correlated_features(df, threshold=0.95, target_memory_gb=1):\n",
        "    \"\"\"Fixed correlation removal with memory optimization\"\"\"\n",
        "    print_memory_usage(\"Before correlation:\")\n",
        "\n",
        "    # Remove non-feature columns and convert to numpy for efficiency\n",
        "    feature_cols = [col for col in df.columns if col not in ['label', 'loan_id', 'id']]\n",
        "    features_df = df[feature_cols]\n",
        "\n",
        "    to_drop = set()\n",
        "    chunk_size = min(100, len(feature_cols))\n",
        "\n",
        "    for i in range(0, len(feature_cols), chunk_size):\n",
        "        chunk_end = min(i + chunk_size, len(feature_cols))\n",
        "        chunk_features = feature_cols[i:chunk_end]\n",
        "\n",
        "        # Calculate correlation matrix for chunk\n",
        "        chunk_df = features_df[chunk_features]\n",
        "        corr_matrix = chunk_df.corr().abs()\n",
        "\n",
        "        # Create mask for upper triangle\n",
        "        mask = np.triu(np.ones(corr_matrix.shape), k=1).astype(bool)\n",
        "\n",
        "        # Find highly correlated pairs\n",
        "        high_corr = (corr_matrix > threshold) & mask\n",
        "\n",
        "        # Get features to drop\n",
        "        for idx, col in enumerate(chunk_features):\n",
        "            if high_corr.iloc[idx].any():\n",
        "                to_drop.add(col)\n",
        "\n",
        "        # Clean up\n",
        "        del chunk_df, corr_matrix, high_corr\n",
        "        gc.collect()\n",
        "\n",
        "    print(f\"Removing {len(to_drop)} correlated features\")\n",
        "    df_reduced = df.drop(list(to_drop), axis=1)\n",
        "\n",
        "    print_memory_usage(\"After correlation:\")\n",
        "    return df_reduced, list(to_drop)\n",
        "\n",
        "def get_mutual_information(df, target_memory_gb=1):\n",
        "    \"\"\"Memory-optimized mutual information calculation\"\"\"\n",
        "    print_memory_usage(\"Before MI:\")\n",
        "\n",
        "    feature_cols = [col for col in df.columns if col not in ['label', 'loan_id', 'id']]\n",
        "    y = df['label'].values\n",
        "\n",
        "    chunk_size = min(100, len(feature_cols))\n",
        "    mutual_info_dict = {}\n",
        "\n",
        "    for i in range(0, len(feature_cols), chunk_size):\n",
        "        chunk_features = feature_cols[i:min(i + chunk_size, len(feature_cols))]\n",
        "        X_chunk = df[chunk_features].values\n",
        "\n",
        "        # Calculate MI for chunk\n",
        "        chunk_mi = mutual_info_classif(X_chunk, y)\n",
        "\n",
        "        # Store results\n",
        "        for feat, mi in zip(chunk_features, chunk_mi):\n",
        "            mutual_info_dict[feat] = mi\n",
        "\n",
        "        del X_chunk\n",
        "        gc.collect()\n",
        "\n",
        "    feature_mutual_info = pd.Series(mutual_info_dict).sort_values(ascending=False)\n",
        "    print_memory_usage(\"After MI:\")\n",
        "    return feature_mutual_info\n",
        "\n",
        "def get_feature_importance(df, n_trees=50, target_memory_gb=1, importance_threshold=0.0001):\n",
        "    \"\"\"Memory-optimized Random Forest feature importance\"\"\"\n",
        "    print_memory_usage(\"Before RF:\")\n",
        "\n",
        "    feature_cols = [col for col in df.columns if col not in ['label', 'loan_id', 'id']]\n",
        "    X = df[feature_cols]\n",
        "    y = df['label'].values\n",
        "\n",
        "    rf = RandomForestClassifier(\n",
        "        n_estimators=n_trees,\n",
        "        random_state=42,\n",
        "        n_jobs=-1,\n",
        "        max_depth=10,\n",
        "        class_weight='balanced'\n",
        "    )\n",
        "\n",
        "    # Fit RF on all features at once since we're using max_depth\n",
        "    rf.fit(X, y)\n",
        "\n",
        "    # Get feature importance\n",
        "    importance_dict = dict(zip(feature_cols, rf.feature_importances_))\n",
        "    feature_importance = pd.Series(importance_dict).sort_values(ascending=False)\n",
        "\n",
        "    # Remove low importance features\n",
        "    to_drop = feature_importance[feature_importance < importance_threshold].index\n",
        "    print(f\"Removing {len(to_drop)} features with importance < {importance_threshold}\")\n",
        "\n",
        "    print_memory_usage(\"After RF:\")\n",
        "    return df.drop(to_drop, axis=1)\n",
        "\n",
        "def process_features_efficiently(df, corr_threshold=0.95, target_memory_gb=1):\n",
        "    \"\"\"Main processing function\"\"\"\n",
        "    print(\"Starting feature processing...\")\n",
        "    print_memory_usage(\"Initial\")\n",
        "\n",
        "    try:\n",
        "        # 1. Remove highly correlated features\n",
        "        df_processed, dropped_corr = remove_correlated_features(\n",
        "            df,\n",
        "            threshold=corr_threshold,\n",
        "            target_memory_gb=target_memory_gb\n",
        "        )\n",
        "        gc.collect()\n",
        "\n",
        "        print(\"\\nShape after correlation removal:\", df_processed.shape)\n",
        "\n",
        "        # 2. Calculate mutual information\n",
        "        # Calculate mutual information\n",
        "        feature_mi = get_mutual_information(\n",
        "            df_processed,\n",
        "            target_memory_gb=target_memory_gb\n",
        "        )\n",
        "\n",
        "        # Set a small threshold for MI\n",
        "        mi_threshold = 0.0001\n",
        "\n",
        "        low_mi_features = feature_mi[feature_mi < mi_threshold].index\n",
        "\n",
        "        df_processed = df_processed.drop(low_mi_features, axis=1)\n",
        "\n",
        "        gc.collect()\n",
        "\n",
        "\n",
        "        print(\"Shape after MI filtering:\", df_processed.shape)\n",
        "\n",
        "        # 3. Calculate feature importance\n",
        "        df_processed = get_feature_importance(\n",
        "            df_processed,\n",
        "            target_memory_gb=target_memory_gb\n",
        "        )\n",
        "\n",
        "        print(\"Final shape:\", df_processed.shape)\n",
        "        print_memory_usage(\"Final\")\n",
        "\n",
        "        return df_processed, feature_mi\n",
        "\n",
        "    except Exception as e:\n",
        "        print(f\"Error in processing: {str(e)}\")\n",
        "        raise\n",
        "    finally:\n",
        "        gc.collect()\n",
        "\n",
        "# Usage\n",
        "try:\n",
        "    # Process features with controlled memory usage\n",
        "    df_processed, mi_scores = process_features_efficiently(\n",
        "        df_train,\n",
        "        corr_threshold=0.90,\n",
        "        target_memory_gb=1\n",
        "    )\n",
        "\n",
        "    # Print results\n",
        "    print(\"\\nDataset shapes:\")\n",
        "    print(f\"Original: {df_train.shape}\")\n",
        "    print(f\"Processed: {df_processed.shape}\")\n",
        "\n",
        "except Exception as e:\n",
        "    print(f\"Error occurred: {str(e)}\")\n",
        "    print(\"Traceback:\", traceback.format_exc())\n",
        "finally:\n",
        "    gc.collect()\n",
        "    print_memory_usage(\"Cleanup\")"
      ]
    },
    {
      "cell_type": "code",
      "execution_count": null,
      "metadata": {
        "id": "qunFLYDZXZv6"
      },
      "outputs": [],
      "source": [
        "gc.collect()"
      ]
    },
    {
      "cell_type": "code",
      "execution_count": null,
      "metadata": {
        "id": "b4Lvk-kTQybV"
      },
      "outputs": [],
      "source": [
        "object_columns = df_train.select_dtypes(include=['object']).columns\n",
        "print(object_columns)\n"
      ]
    },
    {
      "cell_type": "code",
      "execution_count": null,
      "metadata": {
        "id": "qaCruQEs5SVD"
      },
      "outputs": [],
      "source": [
        "df_processed.shape"
      ]
    },
    {
      "cell_type": "code",
      "execution_count": null,
      "metadata": {
        "id": "-RGnjnUeovpx"
      },
      "outputs": [],
      "source": [
        "# Save df_processed to Google Drive\n",
        "df_processed.to_csv('/content/drive/My Drive/df_processed.csv', index=False, mode='w')\n",
        "\n",
        "print(\"DataFrame saved to Google Drive.\")\n"
      ]
    },
    {
      "cell_type": "code",
      "execution_count": null,
      "metadata": {
        "id": "RAA4uGpQFp_g"
      },
      "outputs": [],
      "source": [
        "df_processed=pd.read_csv(\"/content/drive/MyDrive/df_processed.csv\")"
      ]
    },
    {
      "cell_type": "code",
      "source": [
        "df_processed.shape"
      ],
      "metadata": {
        "id": "hnRF_Ym_HFu7"
      },
      "execution_count": null,
      "outputs": []
    },
    {
      "cell_type": "code",
      "source": [
        "columns_to_keep = list(df_processed.columns[3:]) + ['label']\n"
      ],
      "metadata": {
        "id": "Le6BCOPncjJ5"
      },
      "execution_count": null,
      "outputs": []
    },
    {
      "cell_type": "code",
      "execution_count": null,
      "metadata": {
        "id": "FhAlYCgrvEs6",
        "collapsed": true
      },
      "outputs": [],
      "source": [
        "import pandas as pd\n",
        "import numpy as np\n",
        "from imblearn.combine import SMOTETomek\n",
        "import gc\n",
        "from tqdm import tqdm  # Import tqdm for progress bars\n",
        "\n",
        "# Memory optimization function\n",
        "def reduce_mem_usage(df):\n",
        "    start_mem = df.memory_usage().sum() / 1024**2\n",
        "    for col in tqdm(df.columns, desc='Optimizing Memory Usage', unit='column'):\n",
        "        col_type = df[col].dtype\n",
        "\n",
        "        if col_type != object:\n",
        "            c_min = df[col].min()\n",
        "            c_max = df[col].max()\n",
        "            if str(col_type)[:3] == 'int':\n",
        "                if c_min > np.iinfo(np.int8).min and c_max < np.iinfo(np.int8).max:\n",
        "                    df[col] = df[col].astype(np.int8)\n",
        "                elif c_min > np.iinfo(np.int16).min and c_max < np.iinfo(np.int16).max:\n",
        "                    df[col] = df[col].astype(np.int16)\n",
        "                elif c_min > np.iinfo(np.int32).min and c_max < np.iinfo(np.int32).max:\n",
        "                    df[col] = df[col].astype(np.int32)\n",
        "                elif c_min > np.iinfo(np.int64).min and c_max < np.iinfo(np.int64).max:\n",
        "                    df[col] = df[col].astype(np.int64)\n",
        "            else:\n",
        "                if c_min > np.finfo(np.float16).min and c_max < np.finfo(np.float16).max:\n",
        "                    df[col] = df[col].astype(np.float16)\n",
        "                elif c_min > np.finfo(np.float32).min and c_max < np.finfo(np.float32).max:\n",
        "                    df[col] = df[col].astype(np.float32)\n",
        "                else:\n",
        "                    df[col] = df[col].astype(np.float64)\n",
        "\n",
        "    end_mem = df.memory_usage().sum() / 1024**2\n",
        "    print(f'Memory usage decreased from {start_mem:.2f} MB to {end_mem:.2f} MB '\n",
        "          f'({100 * (start_mem - end_mem) / start_mem:.1f}% reduction)')\n",
        "    return df\n",
        "\n",
        "# Optimize memory usage of the input data\n",
        "df_train = reduce_mem_usage(df_processed)\n",
        "\n",
        "# Separate features and target, and convert to NumPy arrays for speed\n",
        "X = df_train.drop(['label', 'loan_id', 'id'], axis=1).values\n",
        "y = df_train['label'].values\n",
        "\n",
        "# Free memory\n",
        "del df_train\n",
        "gc.collect()\n",
        "\n",
        "# Print initial class distribution\n",
        "print(\"Initial class distribution:\")\n",
        "unique, counts = np.unique(y, return_counts=True)\n",
        "print(dict(zip(unique, counts / len(y))))\n",
        "\n",
        "# Apply SMOTETomek with parallel processing\n",
        "print(\"Applying SMOTETomek...\")\n",
        "smotetomek = SMOTETomek(sampling_strategy='auto', random_state=42, n_jobs=-1)  # Parallel jobs\n",
        "\n",
        "# Use tqdm to show progress while resampling\n",
        "X_resampled, y_resampled = smotetomek.fit_resample(X, y)\n",
        "\n",
        "# Free memory\n",
        "del X, y\n",
        "gc.collect()\n",
        "\n",
        "# Print resampled class distribution\n",
        "print(\"\\nResampled class distribution:\")\n",
        "unique, counts = np.unique(y_resampled, return_counts=True)\n",
        "print(dict(zip(unique, counts / len(y_resampled))))\n",
        "\n",
        "# Convert resampled data back to DataFrame\n",
        "X_resampled_df = pd.DataFrame(X_resampled)\n",
        "y_resampled_df = pd.Series(y_resampled, name='label')\n",
        "\n",
        "# Combine features and label into a single DataFrame\n",
        "df_train_resampled = pd.concat([X_resampled_df, y_resampled_df], axis=1)\n",
        "\n",
        "# Optimize memory usage of resampled data\n",
        "df_train_resampled = reduce_mem_usage(df_train_resampled)\n",
        "\n",
        "# Free up memory\n",
        "del X_resampled, y_resampled\n",
        "gc.collect()\n"
      ]
    },
    {
      "cell_type": "code",
      "execution_count": null,
      "metadata": {
        "id": "8SMGblX4K6-V"
      },
      "outputs": [],
      "source": [
        "# Save df_processed to Google Drive\n",
        "df_train_resampled.to_csv('/content/drive/My Drive/df_train_resampled2.csv', index=False, mode='w')\n",
        "\n",
        "print(\"DataFrame saved to Google Drive.\")\n"
      ]
    },
    {
      "cell_type": "code",
      "execution_count": null,
      "metadata": {
        "id": "4zDcLsHbr8Be"
      },
      "outputs": [],
      "source": [
        "df_train_resampled.shape"
      ]
    },
    {
      "cell_type": "code",
      "source": [
        "df_train=pd.read_csv(\"/content/drive/MyDrive/df_train_resampled2.csv\")\n"
      ],
      "metadata": {
        "id": "3C63AZSuaVAT",
        "collapsed": true
      },
      "execution_count": null,
      "outputs": []
    },
    {
      "cell_type": "code",
      "source": [
        "df_train.head()"
      ],
      "metadata": {
        "id": "OjCEMmtLbHH4"
      },
      "execution_count": null,
      "outputs": []
    },
    {
      "cell_type": "code",
      "source": [
        "df_train.shape"
      ],
      "metadata": {
        "id": "h6RVyCuqcnqN"
      },
      "execution_count": null,
      "outputs": []
    },
    {
      "cell_type": "code",
      "source": [
        "df_train.columns=columns_to_keep"
      ],
      "metadata": {
        "id": "gl90BZuLHzvQ"
      },
      "execution_count": null,
      "outputs": []
    },
    {
      "cell_type": "code",
      "source": [
        "df_test=pd.read_csv(\"/content/drive/MyDrive/df_test.csv\")"
      ],
      "metadata": {
        "id": "IxhfZQi_vTmU"
      },
      "execution_count": null,
      "outputs": []
    },
    {
      "cell_type": "code",
      "source": [
        "from google.colab import drive\n",
        "drive.mount('/content/drive')"
      ],
      "metadata": {
        "id": "QxQN-IZEvXGk"
      },
      "execution_count": null,
      "outputs": []
    },
    {
      "cell_type": "code",
      "source": [
        "df_train=df_train.drop('col_72',axis=1)"
      ],
      "metadata": {
        "id": "9BjS-QSzv9Nx"
      },
      "execution_count": null,
      "outputs": []
    },
    {
      "cell_type": "code",
      "source": [
        "df_test=df_test[df_train.columns[:-1]]"
      ],
      "metadata": {
        "id": "nMN9XlkZIeNa"
      },
      "execution_count": null,
      "outputs": []
    },
    {
      "cell_type": "code",
      "source": [
        "top_20_columns=['col_76', 'col_24', 'col_75', 'col_39', 'col_87', 'col_126', 'col_79', 'col_66', 'col_116', 'col_37', 'col_59', 'col_152', 'col_74', 'col_72', 'col_7', 'col_162', 'col_6', 'col_119', 'col_12', 'col_21']"
      ],
      "metadata": {
        "id": "duGz_k9II-MS"
      },
      "execution_count": null,
      "outputs": []
    },
    {
      "cell_type": "code",
      "source": [
        "from tqdm import tqdm\n",
        "\n",
        "# Memory optimization function\n",
        "def reduce_mem_usage(df):\n",
        "    start_mem = df.memory_usage().sum() / 1024**2\n",
        "    for col in tqdm(df.columns, desc='Optimizing Memory Usage', unit='column'):\n",
        "        col_type = df[col].dtype\n",
        "\n",
        "        if col_type != object:\n",
        "            c_min = df[col].min()\n",
        "            c_max = df[col].max()\n",
        "            if str(col_type)[:3] == 'int':\n",
        "                if c_min > np.iinfo(np.int8).min and c_max < np.iinfo(np.int8).max:\n",
        "                    df[col] = df[col].astype(np.int8)\n",
        "                elif c_min > np.iinfo(np.int16).min and c_max < np.iinfo(np.int16).max:\n",
        "                    df[col] = df[col].astype(np.int16)\n",
        "                elif c_min > np.iinfo(np.int32).min and c_max < np.iinfo(np.int32).max:\n",
        "                    df[col] = df[col].astype(np.int32)\n",
        "                elif c_min > np.iinfo(np.int64).min and c_max < np.iinfo(np.int64).max:\n",
        "                    df[col] = df[col].astype(np.int64)\n",
        "            else:\n",
        "                if c_min > np.finfo(np.float16).min and c_max < np.finfo(np.float16).max:\n",
        "                    df[col] = df[col].astype(np.float16)\n",
        "                elif c_min > np.finfo(np.float32).min and c_max < np.finfo(np.float32).max:\n",
        "                    df[col] = df[col].astype(np.float32)\n",
        "                else:\n",
        "                    df[col] = df[col].astype(np.float64)\n",
        "\n",
        "    end_mem = df.memory_usage().sum() / 1024**2\n",
        "    print(f'Memory usage decreased from {start_mem:.2f} MB to {end_mem:.2f} MB '\n",
        "          f'({100 * (start_mem - end_mem) / start_mem:.1f}% reduction)')\n",
        "    return df\n",
        "\n",
        "# Optimize memory usage of the input data\n",
        "df_train = reduce_mem_usage(df_train)\n",
        "df_test = reduce_mem_usage(df_test)"
      ],
      "metadata": {
        "colab": {
          "base_uri": "https://localhost:8080/"
        },
        "collapsed": true,
        "id": "CI27SDm5Jpeq",
        "outputId": "798fa0c4-1e9d-4ef6-f746-dcaee0a3b5b6"
      },
      "execution_count": null,
      "outputs": [
        {
          "output_type": "stream",
          "name": "stderr",
          "text": [
            "Optimizing Memory Usage: 100%|██████████| 789/789 [00:03<00:00, 214.81column/s]\n"
          ]
        },
        {
          "output_type": "stream",
          "name": "stdout",
          "text": [
            "Memory usage decreased from 1150.06 MB to 343.45 MB (70.1% reduction)\n"
          ]
        },
        {
          "output_type": "stream",
          "name": "stderr",
          "text": [
            "Optimizing Memory Usage: 100%|██████████| 788/788 [00:02<00:00, 342.56column/s]\n"
          ]
        },
        {
          "output_type": "stream",
          "name": "stdout",
          "text": [
            "Memory usage decreased from 601.20 MB to 159.84 MB (73.4% reduction)\n"
          ]
        }
      ]
    },
    {
      "cell_type": "code",
      "source": [
        "df_train.head()"
      ],
      "metadata": {
        "colab": {
          "base_uri": "https://localhost:8080/",
          "height": 236
        },
        "id": "QkuRsDuCz5tJ",
        "outputId": "10e6567d-8e14-4bda-b89c-7022ed447d07"
      },
      "execution_count": null,
      "outputs": [
        {
          "output_type": "execute_result",
          "data": {
            "text/plain": [
              "   prod      col_2  col_5     col_7  col_11    col_12    col_15  col_16  \\\n",
              "0   1.0  29.000000    0.0  0.001329     0.0  0.000118  0.000268     0.0   \n",
              "1   1.0  29.953125    0.0  0.000050     0.0  0.000004  0.000624     0.0   \n",
              "2   1.0  33.000000    0.0  0.000272     0.0  0.000056  0.000607     0.0   \n",
              "3   1.0  26.000000    0.0  0.000959     0.0  0.000104  0.001374     0.0   \n",
              "4   1.0  16.984375    0.0  0.000213     0.0  0.000051  0.003885     0.0   \n",
              "\n",
              "     col_17  col_18  ...  add_662_diff  add_663_diff  add_665_diff  \\\n",
              "0  0.006001     0.0  ...           0.0      -40000.0           0.0   \n",
              "1  0.001620     0.0  ...           0.0     -380478.0           0.0   \n",
              "2  0.003000     0.0  ...           0.0      -45787.0           0.0   \n",
              "3  0.007000     0.0  ...     -199240.0      -11900.0           0.0   \n",
              "4  0.008102     0.0  ...           0.0           0.0           0.0   \n",
              "\n",
              "   add_666_diff  add_667_diff  add_668_diff  add_669_diff  add_670_diff  \\\n",
              "0           0.0      -40000.0           0.0          -1.0        -728.0   \n",
              "1           0.0     -230366.0           0.0         -10.0        -753.0   \n",
              "2           0.0      -23757.0          -1.0          -2.0        -738.0   \n",
              "3      -43000.0       -1134.0           0.0         -14.0        -769.0   \n",
              "4           0.0       38630.0           0.0           0.0           6.0   \n",
              "\n",
              "   add_674_diff  label  \n",
              "0          -2.0      0  \n",
              "1          -1.0      0  \n",
              "2          -1.0      0  \n",
              "3          -1.0      0  \n",
              "4          -2.0      0  \n",
              "\n",
              "[5 rows x 790 columns]"
            ],
            "text/html": [
              "\n",
              "  <div id=\"df-0056745a-69ad-4fea-8527-a3c3f2fe7997\" class=\"colab-df-container\">\n",
              "    <div>\n",
              "<style scoped>\n",
              "    .dataframe tbody tr th:only-of-type {\n",
              "        vertical-align: middle;\n",
              "    }\n",
              "\n",
              "    .dataframe tbody tr th {\n",
              "        vertical-align: top;\n",
              "    }\n",
              "\n",
              "    .dataframe thead th {\n",
              "        text-align: right;\n",
              "    }\n",
              "</style>\n",
              "<table border=\"1\" class=\"dataframe\">\n",
              "  <thead>\n",
              "    <tr style=\"text-align: right;\">\n",
              "      <th></th>\n",
              "      <th>prod</th>\n",
              "      <th>col_2</th>\n",
              "      <th>col_5</th>\n",
              "      <th>col_7</th>\n",
              "      <th>col_11</th>\n",
              "      <th>col_12</th>\n",
              "      <th>col_15</th>\n",
              "      <th>col_16</th>\n",
              "      <th>col_17</th>\n",
              "      <th>col_18</th>\n",
              "      <th>...</th>\n",
              "      <th>add_662_diff</th>\n",
              "      <th>add_663_diff</th>\n",
              "      <th>add_665_diff</th>\n",
              "      <th>add_666_diff</th>\n",
              "      <th>add_667_diff</th>\n",
              "      <th>add_668_diff</th>\n",
              "      <th>add_669_diff</th>\n",
              "      <th>add_670_diff</th>\n",
              "      <th>add_674_diff</th>\n",
              "      <th>label</th>\n",
              "    </tr>\n",
              "  </thead>\n",
              "  <tbody>\n",
              "    <tr>\n",
              "      <th>0</th>\n",
              "      <td>1.0</td>\n",
              "      <td>29.000000</td>\n",
              "      <td>0.0</td>\n",
              "      <td>0.001329</td>\n",
              "      <td>0.0</td>\n",
              "      <td>0.000118</td>\n",
              "      <td>0.000268</td>\n",
              "      <td>0.0</td>\n",
              "      <td>0.006001</td>\n",
              "      <td>0.0</td>\n",
              "      <td>...</td>\n",
              "      <td>0.0</td>\n",
              "      <td>-40000.0</td>\n",
              "      <td>0.0</td>\n",
              "      <td>0.0</td>\n",
              "      <td>-40000.0</td>\n",
              "      <td>0.0</td>\n",
              "      <td>-1.0</td>\n",
              "      <td>-728.0</td>\n",
              "      <td>-2.0</td>\n",
              "      <td>0</td>\n",
              "    </tr>\n",
              "    <tr>\n",
              "      <th>1</th>\n",
              "      <td>1.0</td>\n",
              "      <td>29.953125</td>\n",
              "      <td>0.0</td>\n",
              "      <td>0.000050</td>\n",
              "      <td>0.0</td>\n",
              "      <td>0.000004</td>\n",
              "      <td>0.000624</td>\n",
              "      <td>0.0</td>\n",
              "      <td>0.001620</td>\n",
              "      <td>0.0</td>\n",
              "      <td>...</td>\n",
              "      <td>0.0</td>\n",
              "      <td>-380478.0</td>\n",
              "      <td>0.0</td>\n",
              "      <td>0.0</td>\n",
              "      <td>-230366.0</td>\n",
              "      <td>0.0</td>\n",
              "      <td>-10.0</td>\n",
              "      <td>-753.0</td>\n",
              "      <td>-1.0</td>\n",
              "      <td>0</td>\n",
              "    </tr>\n",
              "    <tr>\n",
              "      <th>2</th>\n",
              "      <td>1.0</td>\n",
              "      <td>33.000000</td>\n",
              "      <td>0.0</td>\n",
              "      <td>0.000272</td>\n",
              "      <td>0.0</td>\n",
              "      <td>0.000056</td>\n",
              "      <td>0.000607</td>\n",
              "      <td>0.0</td>\n",
              "      <td>0.003000</td>\n",
              "      <td>0.0</td>\n",
              "      <td>...</td>\n",
              "      <td>0.0</td>\n",
              "      <td>-45787.0</td>\n",
              "      <td>0.0</td>\n",
              "      <td>0.0</td>\n",
              "      <td>-23757.0</td>\n",
              "      <td>-1.0</td>\n",
              "      <td>-2.0</td>\n",
              "      <td>-738.0</td>\n",
              "      <td>-1.0</td>\n",
              "      <td>0</td>\n",
              "    </tr>\n",
              "    <tr>\n",
              "      <th>3</th>\n",
              "      <td>1.0</td>\n",
              "      <td>26.000000</td>\n",
              "      <td>0.0</td>\n",
              "      <td>0.000959</td>\n",
              "      <td>0.0</td>\n",
              "      <td>0.000104</td>\n",
              "      <td>0.001374</td>\n",
              "      <td>0.0</td>\n",
              "      <td>0.007000</td>\n",
              "      <td>0.0</td>\n",
              "      <td>...</td>\n",
              "      <td>-199240.0</td>\n",
              "      <td>-11900.0</td>\n",
              "      <td>0.0</td>\n",
              "      <td>-43000.0</td>\n",
              "      <td>-1134.0</td>\n",
              "      <td>0.0</td>\n",
              "      <td>-14.0</td>\n",
              "      <td>-769.0</td>\n",
              "      <td>-1.0</td>\n",
              "      <td>0</td>\n",
              "    </tr>\n",
              "    <tr>\n",
              "      <th>4</th>\n",
              "      <td>1.0</td>\n",
              "      <td>16.984375</td>\n",
              "      <td>0.0</td>\n",
              "      <td>0.000213</td>\n",
              "      <td>0.0</td>\n",
              "      <td>0.000051</td>\n",
              "      <td>0.003885</td>\n",
              "      <td>0.0</td>\n",
              "      <td>0.008102</td>\n",
              "      <td>0.0</td>\n",
              "      <td>...</td>\n",
              "      <td>0.0</td>\n",
              "      <td>0.0</td>\n",
              "      <td>0.0</td>\n",
              "      <td>0.0</td>\n",
              "      <td>38630.0</td>\n",
              "      <td>0.0</td>\n",
              "      <td>0.0</td>\n",
              "      <td>6.0</td>\n",
              "      <td>-2.0</td>\n",
              "      <td>0</td>\n",
              "    </tr>\n",
              "  </tbody>\n",
              "</table>\n",
              "<p>5 rows × 790 columns</p>\n",
              "</div>\n",
              "    <div class=\"colab-df-buttons\">\n",
              "\n",
              "  <div class=\"colab-df-container\">\n",
              "    <button class=\"colab-df-convert\" onclick=\"convertToInteractive('df-0056745a-69ad-4fea-8527-a3c3f2fe7997')\"\n",
              "            title=\"Convert this dataframe to an interactive table.\"\n",
              "            style=\"display:none;\">\n",
              "\n",
              "  <svg xmlns=\"http://www.w3.org/2000/svg\" height=\"24px\" viewBox=\"0 -960 960 960\">\n",
              "    <path d=\"M120-120v-720h720v720H120Zm60-500h600v-160H180v160Zm220 220h160v-160H400v160Zm0 220h160v-160H400v160ZM180-400h160v-160H180v160Zm440 0h160v-160H620v160ZM180-180h160v-160H180v160Zm440 0h160v-160H620v160Z\"/>\n",
              "  </svg>\n",
              "    </button>\n",
              "\n",
              "  <style>\n",
              "    .colab-df-container {\n",
              "      display:flex;\n",
              "      gap: 12px;\n",
              "    }\n",
              "\n",
              "    .colab-df-convert {\n",
              "      background-color: #E8F0FE;\n",
              "      border: none;\n",
              "      border-radius: 50%;\n",
              "      cursor: pointer;\n",
              "      display: none;\n",
              "      fill: #1967D2;\n",
              "      height: 32px;\n",
              "      padding: 0 0 0 0;\n",
              "      width: 32px;\n",
              "    }\n",
              "\n",
              "    .colab-df-convert:hover {\n",
              "      background-color: #E2EBFA;\n",
              "      box-shadow: 0px 1px 2px rgba(60, 64, 67, 0.3), 0px 1px 3px 1px rgba(60, 64, 67, 0.15);\n",
              "      fill: #174EA6;\n",
              "    }\n",
              "\n",
              "    .colab-df-buttons div {\n",
              "      margin-bottom: 4px;\n",
              "    }\n",
              "\n",
              "    [theme=dark] .colab-df-convert {\n",
              "      background-color: #3B4455;\n",
              "      fill: #D2E3FC;\n",
              "    }\n",
              "\n",
              "    [theme=dark] .colab-df-convert:hover {\n",
              "      background-color: #434B5C;\n",
              "      box-shadow: 0px 1px 3px 1px rgba(0, 0, 0, 0.15);\n",
              "      filter: drop-shadow(0px 1px 2px rgba(0, 0, 0, 0.3));\n",
              "      fill: #FFFFFF;\n",
              "    }\n",
              "  </style>\n",
              "\n",
              "    <script>\n",
              "      const buttonEl =\n",
              "        document.querySelector('#df-0056745a-69ad-4fea-8527-a3c3f2fe7997 button.colab-df-convert');\n",
              "      buttonEl.style.display =\n",
              "        google.colab.kernel.accessAllowed ? 'block' : 'none';\n",
              "\n",
              "      async function convertToInteractive(key) {\n",
              "        const element = document.querySelector('#df-0056745a-69ad-4fea-8527-a3c3f2fe7997');\n",
              "        const dataTable =\n",
              "          await google.colab.kernel.invokeFunction('convertToInteractive',\n",
              "                                                    [key], {});\n",
              "        if (!dataTable) return;\n",
              "\n",
              "        const docLinkHtml = 'Like what you see? Visit the ' +\n",
              "          '<a target=\"_blank\" href=https://colab.research.google.com/notebooks/data_table.ipynb>data table notebook</a>'\n",
              "          + ' to learn more about interactive tables.';\n",
              "        element.innerHTML = '';\n",
              "        dataTable['output_type'] = 'display_data';\n",
              "        await google.colab.output.renderOutput(dataTable, element);\n",
              "        const docLink = document.createElement('div');\n",
              "        docLink.innerHTML = docLinkHtml;\n",
              "        element.appendChild(docLink);\n",
              "      }\n",
              "    </script>\n",
              "  </div>\n",
              "\n",
              "\n",
              "<div id=\"df-c2b354c1-be0f-480c-a805-92f4d577f9ca\">\n",
              "  <button class=\"colab-df-quickchart\" onclick=\"quickchart('df-c2b354c1-be0f-480c-a805-92f4d577f9ca')\"\n",
              "            title=\"Suggest charts\"\n",
              "            style=\"display:none;\">\n",
              "\n",
              "<svg xmlns=\"http://www.w3.org/2000/svg\" height=\"24px\"viewBox=\"0 0 24 24\"\n",
              "     width=\"24px\">\n",
              "    <g>\n",
              "        <path d=\"M19 3H5c-1.1 0-2 .9-2 2v14c0 1.1.9 2 2 2h14c1.1 0 2-.9 2-2V5c0-1.1-.9-2-2-2zM9 17H7v-7h2v7zm4 0h-2V7h2v10zm4 0h-2v-4h2v4z\"/>\n",
              "    </g>\n",
              "</svg>\n",
              "  </button>\n",
              "\n",
              "<style>\n",
              "  .colab-df-quickchart {\n",
              "      --bg-color: #E8F0FE;\n",
              "      --fill-color: #1967D2;\n",
              "      --hover-bg-color: #E2EBFA;\n",
              "      --hover-fill-color: #174EA6;\n",
              "      --disabled-fill-color: #AAA;\n",
              "      --disabled-bg-color: #DDD;\n",
              "  }\n",
              "\n",
              "  [theme=dark] .colab-df-quickchart {\n",
              "      --bg-color: #3B4455;\n",
              "      --fill-color: #D2E3FC;\n",
              "      --hover-bg-color: #434B5C;\n",
              "      --hover-fill-color: #FFFFFF;\n",
              "      --disabled-bg-color: #3B4455;\n",
              "      --disabled-fill-color: #666;\n",
              "  }\n",
              "\n",
              "  .colab-df-quickchart {\n",
              "    background-color: var(--bg-color);\n",
              "    border: none;\n",
              "    border-radius: 50%;\n",
              "    cursor: pointer;\n",
              "    display: none;\n",
              "    fill: var(--fill-color);\n",
              "    height: 32px;\n",
              "    padding: 0;\n",
              "    width: 32px;\n",
              "  }\n",
              "\n",
              "  .colab-df-quickchart:hover {\n",
              "    background-color: var(--hover-bg-color);\n",
              "    box-shadow: 0 1px 2px rgba(60, 64, 67, 0.3), 0 1px 3px 1px rgba(60, 64, 67, 0.15);\n",
              "    fill: var(--button-hover-fill-color);\n",
              "  }\n",
              "\n",
              "  .colab-df-quickchart-complete:disabled,\n",
              "  .colab-df-quickchart-complete:disabled:hover {\n",
              "    background-color: var(--disabled-bg-color);\n",
              "    fill: var(--disabled-fill-color);\n",
              "    box-shadow: none;\n",
              "  }\n",
              "\n",
              "  .colab-df-spinner {\n",
              "    border: 2px solid var(--fill-color);\n",
              "    border-color: transparent;\n",
              "    border-bottom-color: var(--fill-color);\n",
              "    animation:\n",
              "      spin 1s steps(1) infinite;\n",
              "  }\n",
              "\n",
              "  @keyframes spin {\n",
              "    0% {\n",
              "      border-color: transparent;\n",
              "      border-bottom-color: var(--fill-color);\n",
              "      border-left-color: var(--fill-color);\n",
              "    }\n",
              "    20% {\n",
              "      border-color: transparent;\n",
              "      border-left-color: var(--fill-color);\n",
              "      border-top-color: var(--fill-color);\n",
              "    }\n",
              "    30% {\n",
              "      border-color: transparent;\n",
              "      border-left-color: var(--fill-color);\n",
              "      border-top-color: var(--fill-color);\n",
              "      border-right-color: var(--fill-color);\n",
              "    }\n",
              "    40% {\n",
              "      border-color: transparent;\n",
              "      border-right-color: var(--fill-color);\n",
              "      border-top-color: var(--fill-color);\n",
              "    }\n",
              "    60% {\n",
              "      border-color: transparent;\n",
              "      border-right-color: var(--fill-color);\n",
              "    }\n",
              "    80% {\n",
              "      border-color: transparent;\n",
              "      border-right-color: var(--fill-color);\n",
              "      border-bottom-color: var(--fill-color);\n",
              "    }\n",
              "    90% {\n",
              "      border-color: transparent;\n",
              "      border-bottom-color: var(--fill-color);\n",
              "    }\n",
              "  }\n",
              "</style>\n",
              "\n",
              "  <script>\n",
              "    async function quickchart(key) {\n",
              "      const quickchartButtonEl =\n",
              "        document.querySelector('#' + key + ' button');\n",
              "      quickchartButtonEl.disabled = true;  // To prevent multiple clicks.\n",
              "      quickchartButtonEl.classList.add('colab-df-spinner');\n",
              "      try {\n",
              "        const charts = await google.colab.kernel.invokeFunction(\n",
              "            'suggestCharts', [key], {});\n",
              "      } catch (error) {\n",
              "        console.error('Error during call to suggestCharts:', error);\n",
              "      }\n",
              "      quickchartButtonEl.classList.remove('colab-df-spinner');\n",
              "      quickchartButtonEl.classList.add('colab-df-quickchart-complete');\n",
              "    }\n",
              "    (() => {\n",
              "      let quickchartButtonEl =\n",
              "        document.querySelector('#df-c2b354c1-be0f-480c-a805-92f4d577f9ca button');\n",
              "      quickchartButtonEl.style.display =\n",
              "        google.colab.kernel.accessAllowed ? 'block' : 'none';\n",
              "    })();\n",
              "  </script>\n",
              "</div>\n",
              "\n",
              "    </div>\n",
              "  </div>\n"
            ],
            "application/vnd.google.colaboratory.intrinsic+json": {
              "type": "dataframe",
              "variable_name": "df_train"
            }
          },
          "metadata": {},
          "execution_count": 21
        }
      ]
    },
    {
      "cell_type": "code",
      "execution_count": null,
      "metadata": {
        "id": "cWg2j4tVIDQS",
        "colab": {
          "base_uri": "https://localhost:8080/"
        },
        "outputId": "ad7393e3-ef38-4698-8e8f-68f700dc62d7"
      },
      "outputs": [
        {
          "output_type": "execute_result",
          "data": {
            "text/plain": [
              "0"
            ]
          },
          "metadata": {},
          "execution_count": 27
        }
      ],
      "source": [
        "#@title Applying\n",
        "\n",
        "from sklearn.preprocessing import RobustScaler, PowerTransformer\n",
        "import pandas as pd\n",
        "\n",
        "def apply_robust_scaling(df_train, df_test, target_col='label'):\n",
        "    \"\"\"\n",
        "    Apply robust scaling to train and test data\n",
        "\n",
        "    Parameters:\n",
        "    df_train (pd.DataFrame): Training data\n",
        "    df_test (pd.DataFrame): Test data\n",
        "    target_col (str): Name of target column\n",
        "\n",
        "    Returns:\n",
        "    tuple: (scaled_train_df, scaled_test_df)\n",
        "    \"\"\"\n",
        "    scaler = RobustScaler()\n",
        "\n",
        "    # Create copies and separate features\n",
        "    X_train = df_train.drop(target_col, axis=1)\n",
        "    X_test=df_test\n",
        "\n",
        "    # Fit on train, transform both\n",
        "    X_train_scaled = scaler.fit_transform(X_train)\n",
        "    X_test_scaled = scaler.transform(X_test)\n",
        "\n",
        "    # Convert back to dataframes\n",
        "    train_scaled = pd.DataFrame(X_train_scaled, columns=X_train.columns, index=X_train.index)\n",
        "    test_scaled = pd.DataFrame(X_test_scaled, columns=X_test.columns, index=X_test.index)\n",
        "\n",
        "    # Add target back\n",
        "    train_scaled[target_col] = df_train[target_col]\n",
        "\n",
        "\n",
        "    return train_scaled, test_scaled\n",
        "\n",
        "from sklearn.preprocessing import PowerTransformer\n",
        "\n",
        "def transform_important_features(top_features, df_train, df_test):\n",
        "    \"\"\"\n",
        "    Apply Yeo-Johnson transformation to specified features.\n",
        "\n",
        "    Parameters:\n",
        "    top_features (list): List of feature names to transform\n",
        "    df_train (pd.DataFrame): Training data\n",
        "    df_test (pd.DataFrame): Test data\n",
        "\n",
        "    Returns:\n",
        "    tuple: (transformed_train_df, transformed_test_df)\n",
        "    \"\"\"\n",
        "    train_df = df_train.copy()\n",
        "    test_df = df_test.copy()\n",
        "\n",
        "    for feature in top_features:\n",
        "        if feature in train_df.columns:\n",
        "            try:\n",
        "                transformer = PowerTransformer(method='yeo-johnson', standardize=False)\n",
        "\n",
        "                # Fit on train, transform both\n",
        "                train_df[feature] = transformer.fit_transform(\n",
        "                    train_df[feature].values.reshape(-1, 1)\n",
        "                ).ravel()\n",
        "\n",
        "                test_df[feature] = transformer.transform(\n",
        "                    test_df[feature].values.reshape(-1, 1)\n",
        "                ).ravel()\n",
        "\n",
        "            except Exception as e:\n",
        "                print(f\"Warning: Could not transform {feature}. Error: {str(e)}\")\n",
        "                continue\n",
        "\n",
        "    return train_df, test_df\n",
        "\n",
        "\n",
        "# Usage example:\n",
        "scaled_train, scaled_test = apply_robust_scaling(df_train, df_test)\n",
        "df_train, df_test = transform_important_features(\n",
        "     top_20_columns, scaled_train, scaled_test\n",
        ")\n",
        "\n",
        "del scaled_train,scaled_test\n",
        "gc.collect()"
      ]
    },
    {
      "cell_type": "code",
      "source": [
        "from tqdm import tqdm\n",
        "\n",
        "# Memory optimization function\n",
        "def reduce_mem_usage(df):\n",
        "    start_mem = df.memory_usage().sum() / 1024**2\n",
        "    for col in tqdm(df.columns, desc='Optimizing Memory Usage', unit='column'):\n",
        "        col_type = df[col].dtype\n",
        "\n",
        "        if col_type != object:\n",
        "            c_min = df[col].min()\n",
        "            c_max = df[col].max()\n",
        "            if str(col_type)[:3] == 'int':\n",
        "                if c_min > np.iinfo(np.int8).min and c_max < np.iinfo(np.int8).max:\n",
        "                    df[col] = df[col].astype(np.int8)\n",
        "                elif c_min > np.iinfo(np.int16).min and c_max < np.iinfo(np.int16).max:\n",
        "                    df[col] = df[col].astype(np.int16)\n",
        "                elif c_min > np.iinfo(np.int32).min and c_max < np.iinfo(np.int32).max:\n",
        "                    df[col] = df[col].astype(np.int32)\n",
        "                elif c_min > np.iinfo(np.int64).min and c_max < np.iinfo(np.int64).max:\n",
        "                    df[col] = df[col].astype(np.int64)\n",
        "            else:\n",
        "                if c_min > np.finfo(np.float16).min and c_max < np.finfo(np.float16).max:\n",
        "                    df[col] = df[col].astype(np.float16)\n",
        "                elif c_min > np.finfo(np.float32).min and c_max < np.finfo(np.float32).max:\n",
        "                    df[col] = df[col].astype(np.float32)\n",
        "                else:\n",
        "                    df[col] = df[col].astype(np.float64)\n",
        "\n",
        "    end_mem = df.memory_usage().sum() / 1024**2\n",
        "    print(f'Memory usage decreased from {start_mem:.2f} MB to {end_mem:.2f} MB '\n",
        "          f'({100 * (start_mem - end_mem) / start_mem:.1f}% reduction)')\n",
        "    return df\n",
        "\n",
        "# Optimize memory usage of the input data\n",
        "df_train = reduce_mem_usage(df_train)\n",
        "df_test = reduce_mem_usage(df_test)"
      ],
      "metadata": {
        "colab": {
          "base_uri": "https://localhost:8080/"
        },
        "id": "avcZFppYwXfj",
        "outputId": "b8eeb02d-9a6c-419d-c57e-b4ef15be492f"
      },
      "execution_count": null,
      "outputs": [
        {
          "output_type": "stream",
          "name": "stderr",
          "text": [
            "Optimizing Memory Usage: 100%|██████████| 789/789 [00:06<00:00, 125.80column/s]\n"
          ]
        },
        {
          "output_type": "stream",
          "name": "stdout",
          "text": [
            "Memory usage decreased from 574.48 MB to 304.46 MB (47.0% reduction)\n"
          ]
        },
        {
          "output_type": "stream",
          "name": "stderr",
          "text": [
            "Optimizing Memory Usage: 100%|██████████| 788/788 [00:02<00:00, 351.03column/s]"
          ]
        },
        {
          "output_type": "stream",
          "name": "stdout",
          "text": [
            "Memory usage decreased from 300.60 MB to 160.03 MB (46.8% reduction)\n"
          ]
        },
        {
          "output_type": "stream",
          "name": "stderr",
          "text": [
            "\n"
          ]
        }
      ]
    },
    {
      "cell_type": "code",
      "source": [
        "# Save df_processed to Google Drive\n",
        "df_test.to_csv('/content/drive/My Drive/df_test.csv', index=False, mode='w')\n",
        "\n",
        "print(\"DataFrame saved to Google Drive.\")\n"
      ],
      "metadata": {
        "colab": {
          "base_uri": "https://localhost:8080/"
        },
        "id": "1m3FzKqZDNAi",
        "outputId": "e40c518f-fd83-4b54-ce9d-f62c7fc4efae"
      },
      "execution_count": null,
      "outputs": [
        {
          "output_type": "stream",
          "name": "stdout",
          "text": [
            "DataFrame saved to Google Drive.\n"
          ]
        }
      ]
    },
    {
      "cell_type": "code",
      "source": [],
      "metadata": {
        "id": "l2_9XfSBDpie"
      },
      "execution_count": null,
      "outputs": []
    },
    {
      "cell_type": "code",
      "source": [
        "globals().keys()"
      ],
      "metadata": {
        "colab": {
          "base_uri": "https://localhost:8080/"
        },
        "id": "zbcUOldI130t",
        "outputId": "17316627-97ee-4553-967a-09140823a9a9"
      },
      "execution_count": null,
      "outputs": [
        {
          "output_type": "execute_result",
          "data": {
            "text/plain": [
              "dict_keys(['__name__', '__doc__', '__package__', '__loader__', '__spec__', '__builtin__', '__builtins__', '_ih', '_oh', '_dh', 'In', 'Out', 'get_ipython', 'exit', 'quit', '_', '__', '___', '_i', '_ii', '_iii', '_i1', 'gc', 'pd', 'np', '_i2', '_exit_code', '_i3', 'drive', '_i4', '_i5', '_i6', 'train_test_split', 'train_df', 'train2_1_df', 'train2_2_df', 'test_df', 'test2_1_df', 'test2_2_df', '_i7', 'Dict', 'List', 'Tuple', 'DataProcessor', 'processor', 'train_processed', 'test_processed', '_i8', 'process_dataframe', '_i9', 'Optional', 'psutil', 'os', 'time', 'profile', 'FeatureDifferenceCreator', 'PerformanceMonitor', 'process_with_monitoring', 'creator', '_i10', 'tqdm', 'reduce_mem_usage', '_i11', '_i12', 'df_processed', '_i13', 'columns_to_keep', '_i14', 'df_train', '_i15', '_i16', 'df_test', '_i17', 'top_20_columns', '_i18', '_18', '_i19', '_19', '_i20', '_i21', '_21', '_i22'])"
            ]
          },
          "metadata": {},
          "execution_count": 22
        }
      ]
    },
    {
      "cell_type": "code",
      "source": [
        "gc.collect()"
      ],
      "metadata": {
        "colab": {
          "base_uri": "https://localhost:8080/"
        },
        "id": "bMygW3NCGE7f",
        "outputId": "04a493df-1afd-403c-c2cb-df53c3f23fc9"
      },
      "execution_count": null,
      "outputs": [
        {
          "output_type": "execute_result",
          "data": {
            "text/plain": [
              "588"
            ]
          },
          "metadata": {},
          "execution_count": 39
        }
      ]
    },
    {
      "cell_type": "code",
      "source": [
        "!pip install catboost"
      ],
      "metadata": {
        "colab": {
          "base_uri": "https://localhost:8080/"
        },
        "collapsed": true,
        "id": "Ykzsvec5GKDe",
        "outputId": "0f5a9cba-0cd7-43c8-a58b-af40c19769bd"
      },
      "execution_count": null,
      "outputs": [
        {
          "output_type": "stream",
          "name": "stdout",
          "text": [
            "Collecting catboost\n",
            "  Downloading catboost-1.2.7-cp310-cp310-manylinux2014_x86_64.whl.metadata (1.2 kB)\n",
            "Requirement already satisfied: graphviz in /usr/local/lib/python3.10/dist-packages (from catboost) (0.20.3)\n",
            "Requirement already satisfied: matplotlib in /usr/local/lib/python3.10/dist-packages (from catboost) (3.7.1)\n",
            "Requirement already satisfied: numpy<2.0,>=1.16.0 in /usr/local/lib/python3.10/dist-packages (from catboost) (1.26.4)\n",
            "Requirement already satisfied: pandas>=0.24 in /usr/local/lib/python3.10/dist-packages (from catboost) (2.2.2)\n",
            "Requirement already satisfied: scipy in /usr/local/lib/python3.10/dist-packages (from catboost) (1.13.1)\n",
            "Requirement already satisfied: plotly in /usr/local/lib/python3.10/dist-packages (from catboost) (5.24.1)\n",
            "Requirement already satisfied: six in /usr/local/lib/python3.10/dist-packages (from catboost) (1.16.0)\n",
            "Requirement already satisfied: python-dateutil>=2.8.2 in /usr/local/lib/python3.10/dist-packages (from pandas>=0.24->catboost) (2.8.2)\n",
            "Requirement already satisfied: pytz>=2020.1 in /usr/local/lib/python3.10/dist-packages (from pandas>=0.24->catboost) (2024.2)\n",
            "Requirement already satisfied: tzdata>=2022.7 in /usr/local/lib/python3.10/dist-packages (from pandas>=0.24->catboost) (2024.2)\n",
            "Requirement already satisfied: contourpy>=1.0.1 in /usr/local/lib/python3.10/dist-packages (from matplotlib->catboost) (1.3.0)\n",
            "Requirement already satisfied: cycler>=0.10 in /usr/local/lib/python3.10/dist-packages (from matplotlib->catboost) (0.12.1)\n",
            "Requirement already satisfied: fonttools>=4.22.0 in /usr/local/lib/python3.10/dist-packages (from matplotlib->catboost) (4.54.1)\n",
            "Requirement already satisfied: kiwisolver>=1.0.1 in /usr/local/lib/python3.10/dist-packages (from matplotlib->catboost) (1.4.7)\n",
            "Requirement already satisfied: packaging>=20.0 in /usr/local/lib/python3.10/dist-packages (from matplotlib->catboost) (24.1)\n",
            "Requirement already satisfied: pillow>=6.2.0 in /usr/local/lib/python3.10/dist-packages (from matplotlib->catboost) (10.4.0)\n",
            "Requirement already satisfied: pyparsing>=2.3.1 in /usr/local/lib/python3.10/dist-packages (from matplotlib->catboost) (3.2.0)\n",
            "Requirement already satisfied: tenacity>=6.2.0 in /usr/local/lib/python3.10/dist-packages (from plotly->catboost) (9.0.0)\n",
            "Downloading catboost-1.2.7-cp310-cp310-manylinux2014_x86_64.whl (98.7 MB)\n",
            "\u001b[2K   \u001b[90m━━━━━━━━━━━━━━━━━━━━━━━━━━━━━━━━━━━━━━━━\u001b[0m \u001b[32m98.7/98.7 MB\u001b[0m \u001b[31m2.7 MB/s\u001b[0m eta \u001b[36m0:00:00\u001b[0m\n",
            "\u001b[?25hInstalling collected packages: catboost\n",
            "Successfully installed catboost-1.2.7\n"
          ]
        }
      ]
    },
    {
      "cell_type": "code",
      "source": [
        "\n",
        "gc.collect()"
      ],
      "metadata": {
        "colab": {
          "base_uri": "https://localhost:8080/"
        },
        "id": "1wVhfZvtvhDZ",
        "outputId": "2d19e67f-ef99-4ddd-f756-58dcae1a0c4f"
      },
      "execution_count": null,
      "outputs": [
        {
          "output_type": "execute_result",
          "data": {
            "text/plain": [
              "0"
            ]
          },
          "metadata": {},
          "execution_count": 48
        }
      ]
    },
    {
      "cell_type": "code",
      "source": [
        "test_df=pd.read_csv(\"/content/drive/MyDrive/test_1.csv\")"
      ],
      "metadata": {
        "id": "GshDYzDavkma"
      },
      "execution_count": null,
      "outputs": []
    },
    {
      "cell_type": "code",
      "source": [
        "df_test=pd.read_csv('/content/drive/MyDrive/df_test.csv')"
      ],
      "metadata": {
        "id": "3e8DiAFnvZCn"
      },
      "execution_count": null,
      "outputs": []
    },
    {
      "cell_type": "code",
      "source": [
        "!pip install lightgbm\n"
      ],
      "metadata": {
        "id": "3YC-3iZytwBT",
        "colab": {
          "base_uri": "https://localhost:8080/"
        },
        "collapsed": true,
        "outputId": "d5b3ddee-ca6f-4c05-df25-959c6ba67ab7"
      },
      "execution_count": null,
      "outputs": [
        {
          "output_type": "stream",
          "name": "stdout",
          "text": [
            "Requirement already satisfied: lightgbm in /usr/local/lib/python3.10/dist-packages (4.5.0)\n",
            "Requirement already satisfied: numpy>=1.17.0 in /usr/local/lib/python3.10/dist-packages (from lightgbm) (1.26.4)\n",
            "Requirement already satisfied: scipy in /usr/local/lib/python3.10/dist-packages (from lightgbm) (1.13.1)\n"
          ]
        }
      ]
    },
    {
      "cell_type": "code",
      "source": [
        "# Save df_processed to Google Drive\n",
        "df_train.to_csv('/content/drive/My Drive/df_train3.csv', index=False, mode='w')\n",
        "\n",
        "print(\"DataFrame saved to Google Drive.\")\n"
      ],
      "metadata": {
        "colab": {
          "base_uri": "https://localhost:8080/"
        },
        "id": "neOOQeqqw7c3",
        "outputId": "f4726df6-afc9-413a-c076-b1b6bfb9b444"
      },
      "execution_count": null,
      "outputs": [
        {
          "output_type": "stream",
          "name": "stdout",
          "text": [
            "DataFrame saved to Google Drive.\n"
          ]
        }
      ]
    },
    {
      "cell_type": "code",
      "execution_count": null,
      "metadata": {
        "colab": {
          "base_uri": "https://localhost:8080/"
        },
        "id": "B2vsnph-_AbF",
        "outputId": "6e4922aa-be16-4462-8809-82a02167f918"
      },
      "outputs": [
        {
          "output_type": "stream",
          "name": "stdout",
          "text": [
            "Training LightGBM model...\n",
            "Model saved to: saved_model/lightgbm_model.pkl\n",
            "Feature names saved to: saved_model/feature_names.json\n",
            "Model training completed!\n"
          ]
        }
      ],
      "source": [
        "# train_and_save_model.py\n",
        "\n",
        "import lightgbm as lgb\n",
        "from sklearn.metrics import roc_auc_score\n",
        "import joblib\n",
        "import json\n",
        "import os\n",
        "import pandas as pd\n",
        "\n",
        "def train_and_save_model(X_train, y_train, model_dir='saved_model'):\n",
        "    \"\"\"\n",
        "    Train LightGBM model and save it along with feature names\n",
        "\n",
        "    Parameters:\n",
        "    X_train: Training features\n",
        "    y_train: Training target\n",
        "    model_dir: Directory to save model files\n",
        "    \"\"\"\n",
        "    # Create directory if it doesn't exist\n",
        "    if not os.path.exists(model_dir):\n",
        "        os.makedirs(model_dir)\n",
        "\n",
        "    # Initialize and train the model\n",
        "    clf = lgb.LGBMClassifier(\n",
        "        random_state=42,\n",
        "        metric='auc',\n",
        "        verbose=0\n",
        "    )\n",
        "\n",
        "    print(\"Training LightGBM model...\")\n",
        "    clf.fit(X_train, y_train)\n",
        "\n",
        "    # Save the model\n",
        "    model_path = os.path.join(model_dir, 'lightgbm_model.pkl')\n",
        "    joblib.dump(clf, model_path)\n",
        "\n",
        "    # Save feature names\n",
        "    feature_names = X_train.columns.tolist()\n",
        "    feature_path = os.path.join(model_dir, 'feature_names.json')\n",
        "    with open(feature_path, 'w') as f:\n",
        "        json.dump(feature_names, f)\n",
        "\n",
        "    print(f\"Model saved to: {model_path}\")\n",
        "    print(f\"Feature names saved to: {feature_path}\")\n",
        "\n",
        "    return clf\n",
        "\n",
        "# Example usage for training file\n",
        "if __name__ == \"__main__\":\n",
        "    # Load your training DataFrame here\n",
        "    # df_train = pd.read_csv('your_training_data.csv')  # Uncomment and modify this line accordingly\n",
        "\n",
        "    # 1. Separate features and target\n",
        "    X_train = df_train.drop('label', axis=1)  # Features\n",
        "    y_train = df_train['label']  # Target\n",
        "\n",
        "    # 2. Train and save the model\n",
        "    clf = train_and_save_model(X_train, y_train)\n",
        "\n",
        "    print(\"Model training completed!\")\n"
      ]
    },
    {
      "cell_type": "code",
      "source": [
        "df_test.shape"
      ],
      "metadata": {
        "colab": {
          "base_uri": "https://localhost:8080/"
        },
        "id": "6ay7jCaC1IuP",
        "outputId": "e596bd80-e1dc-49ab-8333-7adeeb17e697"
      },
      "execution_count": null,
      "outputs": [
        {
          "output_type": "execute_result",
          "data": {
            "text/plain": [
              "(100000, 788)"
            ]
          },
          "metadata": {},
          "execution_count": 53
        }
      ]
    },
    {
      "cell_type": "code",
      "source": [
        "def get_predictions(model, df_test, loan_ids):\n",
        "    \"\"\"Make predictions and return dataframe with loan_id and probabilities\"\"\"\n",
        "    # Get predictions for test data\n",
        "    probs = model.predict_proba(df_test)[:, 1]\n",
        "\n",
        "    # Create results dataframe\n",
        "    results = pd.DataFrame({\n",
        "        'loan_id': loan_ids,\n",
        "        'prob': probs\n",
        "    })\n",
        "\n",
        "    return results\n",
        "\n",
        "loan_ids=list(test_df['loan_id'])\n",
        "predictions_df = get_predictions(clf, df_test, loan_ids)"
      ],
      "metadata": {
        "id": "6mJcWtIqvtBs"
      },
      "execution_count": null,
      "outputs": []
    },
    {
      "cell_type": "code",
      "source": [
        "# Save df_processed to Google Drive\n",
        "predictions_df.to_csv('/content/predictions_df2.csv', index=False, mode='w')\n",
        "\n"
      ],
      "metadata": {
        "id": "nSWJW8c6xnjb"
      },
      "execution_count": null,
      "outputs": []
    },
    {
      "cell_type": "code",
      "execution_count": null,
      "metadata": {
        "id": "IcsVqupJcEg2",
        "cellView": "form"
      },
      "outputs": [],
      "source": [
        "#@title Auto ML\n",
        "\n",
        "import numpy as np\n",
        "import pandas as pd\n",
        "from sklearn.metrics import accuracy_score, precision_score, recall_score, f1_score, roc_auc_score\n",
        "from sklearn.linear_model import LogisticRegression\n",
        "from sklearn.tree import DecisionTreeClassifier\n",
        "from sklearn.ensemble import (\n",
        "    RandomForestClassifier,\n",
        "    GradientBoostingClassifier,\n",
        "    AdaBoostClassifier,\n",
        "    ExtraTreesClassifier,\n",
        "    VotingClassifier\n",
        ")\n",
        "from sklearn.svm import SVC\n",
        "from sklearn.neighbors import KNeighborsClassifier\n",
        "from xgboost import XGBClassifier\n",
        "from lightgbm import LGBMClassifier\n",
        "from catboost import CatBoostClassifier\n",
        "import warnings\n",
        "warnings.filterwarnings('ignore')\n",
        "\n",
        "def create_model_pool():\n",
        "    \"\"\"\n",
        "    Create a pool of base models with default parameters\n",
        "    \"\"\"\n",
        "    models = {\n",
        "        'Logistic Regression': LogisticRegression(random_state=42),\n",
        "        'Decision Tree': DecisionTreeClassifier(random_state=42),\n",
        "        'Random Forest': RandomForestClassifier(random_state=42),\n",
        "        'Gradient Boosting': GradientBoostingClassifier(random_state=42),\n",
        "        'AdaBoost': AdaBoostClassifier(random_state=42),\n",
        "        'Extra Trees': ExtraTreesClassifier(random_state=42),\n",
        "        'SVM': SVC(probability=True, random_state=42),\n",
        "        'KNN': KNeighborsClassifier(),\n",
        "        'XGBoost': XGBClassifier(random_state=42),\n",
        "        'LightGBM': LGBMClassifier(random_state=42),\n",
        "        'CatBoost': CatBoostClassifier(random_state=42, verbose=False)\n",
        "    }\n",
        "    return models\n",
        "\n",
        "def create_ensemble_models(base_models):\n",
        "    \"\"\"\n",
        "    Create ensemble models using the best performing base models\n",
        "    \"\"\"\n",
        "    # Voting Classifier with soft voting\n",
        "    voting_clf = VotingClassifier(\n",
        "        estimators=[\n",
        "            ('rf', base_models['Random Forest']),\n",
        "            ('xgb', base_models['XGBoost']),\n",
        "            ('lgbm', base_models['LightGBM'])\n",
        "        ],\n",
        "        voting='soft'\n",
        "    )\n",
        "\n",
        "    # Add ensemble to models dictionary\n",
        "    ensemble_models = {\n",
        "        'Voting Ensemble': voting_clf\n",
        "    }\n",
        "\n",
        "    return ensemble_models\n",
        "\n",
        "def evaluate_model(model, X_train, X_test, y_train, y_test):\n",
        "    \"\"\"\n",
        "    Evaluate a single model and return performance metrics\n",
        "    \"\"\"\n",
        "    # Train the model\n",
        "    model.fit(X_train, y_train)\n",
        "\n",
        "    # Make predictions\n",
        "    y_pred = model.predict(X_test)\n",
        "    y_pred_proba = model.predict_proba(X_test)[:, 1]\n",
        "\n",
        "    # Calculate metrics\n",
        "    metrics = {\n",
        "        'accuracy': accuracy_score(y_test, y_pred),\n",
        "        'precision': precision_score(y_test, y_pred),\n",
        "        'recall': recall_score(y_test, y_pred),\n",
        "        'f1': f1_score(y_test, y_pred),\n",
        "        'roc_auc': roc_auc_score(y_test, y_pred_proba)\n",
        "    }\n",
        "\n",
        "    return metrics, model\n",
        "\n",
        "def find_best_model(X_train, X_test, y_train, y_test):\n",
        "    \"\"\"\n",
        "    Test multiple models and find the best performing one\n",
        "    \"\"\"\n",
        "    # Initialize results storage\n",
        "    results = []\n",
        "    trained_models = {}\n",
        "\n",
        "    # Get base models\n",
        "    models = create_model_pool()\n",
        "\n",
        "    # Evaluate each base model\n",
        "    print(\"Evaluating base models...\")\n",
        "    print(\"-\" * 100)\n",
        "    for name, model in models.items():\n",
        "        try:\n",
        "            print(f\"Training {name}...\")\n",
        "            metrics, trained_model = evaluate_model(model, X_train, X_test, y_train, y_test)\n",
        "            results.append({\n",
        "                'Model': name,\n",
        "                **metrics\n",
        "            })\n",
        "            trained_models[name] = trained_model\n",
        "            print(f\"{name} - Accuracy: {metrics['accuracy']:.4f}, F1: {metrics['f1']:.4f}, ROC-AUC: {metrics['roc_auc']:.4f}\")\n",
        "        except Exception as e:\n",
        "            print(f\"Error with {name}: {str(e)}\")\n",
        "\n",
        "    # Create and evaluate ensemble models\n",
        "    print(\"\\nEvaluating ensemble models...\")\n",
        "    print(\"-\" * 100)\n",
        "    ensemble_models = create_ensemble_models(trained_models)\n",
        "    for name, model in ensemble_models.items():\n",
        "        try:\n",
        "            print(f\"Training {name}...\")\n",
        "            metrics, trained_model = evaluate_model(model, X_train, X_test, y_train, y_test)\n",
        "            results.append({\n",
        "                'Model': name,\n",
        "                **metrics\n",
        "            })\n",
        "            trained_models[name] = trained_model\n",
        "            print(f\"{name} - Accuracy: {metrics['accuracy']:.4f}, F1: {metrics['f1']:.4f}, ROC-AUC: {metrics['roc_auc']:.4f}\")\n",
        "        except Exception as e:\n",
        "            print(f\"Error with {name}: {str(e)}\")\n",
        "\n",
        "    # Create results DataFrame\n",
        "    results_df = pd.DataFrame(results)\n",
        "\n",
        "    # Find best model based on ROC-AUC score\n",
        "    best_model_idx = results_df['roc_auc'].idxmax()\n",
        "    best_model_name = results_df.loc[best_model_idx, 'Model']\n",
        "    best_model = trained_models[best_model_name]\n",
        "\n",
        "    return results_df, best_model, best_model_name, trained_models\n",
        "\n",
        "def print_model_comparison(results_df):\n",
        "    \"\"\"\n",
        "    Print formatted model comparison results\n",
        "    \"\"\"\n",
        "    print(\"\\nModel Comparison Results:\")\n",
        "    print(\"-\" * 100)\n",
        "    print(results_df.sort_values('roc_auc', ascending=False).round(4))\n",
        "\n",
        "    # Print best model details\n",
        "    best_model_row = results_df.loc[results_df['roc_auc'].idxmax()]\n",
        "    print(\"\\nBest Model Details:\")\n",
        "    print(\"-\" * 100)\n",
        "    print(f\"Model: {best_model_row['Model']}\")\n",
        "    print(f\"Accuracy: {best_model_row['accuracy']:.4f}\")\n",
        "    print(f\"Precision: {best_model_row['precision']:.4f}\")\n",
        "    print(f\"Recall: {best_model_row['recall']:.4f}\")\n",
        "    print(f\"F1 Score: {best_model_row['f1']:.4f}\")\n",
        "    print(f\"ROC-AUC: {best_model_row['roc_auc']:.4f}\")\n",
        "\n",
        "def auto_ml_model_selection(X_train, X_test, y_train, y_test):\n",
        "    \"\"\"\n",
        "    Main function to run AutoML model selection\n",
        "    \"\"\"\n",
        "    # Find best model\n",
        "    results_df, best_model, best_model_name, trained_models = find_best_model(\n",
        "        X_train, X_test, y_train, y_test\n",
        "    )\n",
        "\n",
        "    # Print comparison results\n",
        "    print_model_comparison(results_df)\n",
        "\n",
        "    return best_model, best_model_name, results_df, trained_models"
      ]
    },
    {
      "cell_type": "code",
      "execution_count": null,
      "metadata": {
        "colab": {
          "base_uri": "https://localhost:8080/"
        },
        "id": "36q3Z5JEcGOP",
        "outputId": "7006044e-bf57-4e65-baea-36ab3c6161a2",
        "collapsed": true
      },
      "outputs": [
        {
          "name": "stdout",
          "output_type": "stream",
          "text": [
            "Evaluating base models...\n",
            "----------------------------------------------------------------------------------------------------\n",
            "Training Logistic Regression...\n",
            "Logistic Regression - Accuracy: 0.5925, F1: 0.2002, ROC-AUC: 0.6667\n",
            "Training Decision Tree...\n",
            "Decision Tree - Accuracy: 0.8275, F1: 0.2581, ROC-AUC: 0.6107\n",
            "Training Random Forest...\n",
            "Random Forest - Accuracy: 0.9000, F1: 0.3421, ROC-AUC: 0.7407\n",
            "Training Gradient Boosting...\n",
            "Gradient Boosting - Accuracy: 0.8820, F1: 0.3408, ROC-AUC: 0.7450\n",
            "Training AdaBoost...\n",
            "AdaBoost - Accuracy: 0.8470, F1: 0.2949, ROC-AUC: 0.7279\n",
            "Training Extra Trees...\n",
            "Extra Trees - Accuracy: 0.9050, F1: 0.3403, ROC-AUC: 0.7360\n",
            "Training SVM...\n",
            "SVM - Accuracy: 0.9140, F1: 0.0000, ROC-AUC: 0.6632\n",
            "Training KNN...\n",
            "KNN - Accuracy: 0.7520, F1: 0.2393, ROC-AUC: 0.6345\n",
            "Training XGBoost...\n",
            "XGBoost - Accuracy: 0.9050, F1: 0.2910, ROC-AUC: 0.7303\n",
            "Training LightGBM...\n",
            "[LightGBM] [Info] Number of positive: 6945, number of negative: 6945\n",
            "[LightGBM] [Info] Auto-choosing row-wise multi-threading, the overhead of testing was 0.034814 seconds.\n",
            "You can set `force_row_wise=true` to remove the overhead.\n",
            "And if memory is not enough, you can set `force_col_wise=true`.\n",
            "[LightGBM] [Info] Total Bins 60837\n",
            "[LightGBM] [Info] Number of data points in the train set: 13890, number of used features: 283\n",
            "[LightGBM] [Info] [binary:BoostFromScore]: pavg=0.500000 -> initscore=0.000000\n",
            "LightGBM - Accuracy: 0.9025, F1: 0.3158, ROC-AUC: 0.7464\n",
            "Training CatBoost...\n",
            "CatBoost - Accuracy: 0.9075, F1: 0.3071, ROC-AUC: 0.7603\n",
            "\n",
            "Evaluating ensemble models...\n",
            "----------------------------------------------------------------------------------------------------\n",
            "Training Voting Ensemble...\n",
            "[LightGBM] [Info] Number of positive: 6945, number of negative: 6945\n",
            "[LightGBM] [Info] Auto-choosing row-wise multi-threading, the overhead of testing was 0.044319 seconds.\n",
            "You can set `force_row_wise=true` to remove the overhead.\n",
            "And if memory is not enough, you can set `force_col_wise=true`.\n",
            "[LightGBM] [Info] Total Bins 60837\n",
            "[LightGBM] [Info] Number of data points in the train set: 13890, number of used features: 283\n",
            "[LightGBM] [Info] [binary:BoostFromScore]: pavg=0.500000 -> initscore=0.000000\n",
            "Voting Ensemble - Accuracy: 0.9085, F1: 0.3297, ROC-AUC: 0.7497\n",
            "\n",
            "Model Comparison Results:\n",
            "----------------------------------------------------------------------------------------------------\n",
            "                  Model  accuracy  precision  recall      f1  roc_auc\n",
            "10             CatBoost    0.9075     0.4316  0.2384  0.3071   0.7603\n",
            "11      Voting Ensemble    0.9085     0.4455  0.2616  0.3297   0.7497\n",
            "9              LightGBM    0.9025     0.3982  0.2616  0.3158   0.7464\n",
            "3     Gradient Boosting    0.8820     0.3280  0.3547  0.3408   0.7450\n",
            "2         Random Forest    0.9000     0.3939  0.3023  0.3421   0.7407\n",
            "5           Extra Trees    0.9050     0.4224  0.2849  0.3403   0.7360\n",
            "8               XGBoost    0.9050     0.4062  0.2267  0.2910   0.7303\n",
            "4              AdaBoost    0.8470     0.2443  0.3721  0.2949   0.7279\n",
            "0   Logistic Regression    0.5925     0.1204  0.5930  0.2002   0.6667\n",
            "6                   SVM    0.9140     0.0000  0.0000  0.0000   0.6632\n",
            "7                   KNN    0.7520     0.1625  0.4535  0.2393   0.6345\n",
            "1         Decision Tree    0.8275     0.2048  0.3488  0.2581   0.6107\n",
            "\n",
            "Best Model Details:\n",
            "----------------------------------------------------------------------------------------------------\n",
            "Model: CatBoost\n",
            "Accuracy: 0.9075\n",
            "Precision: 0.4316\n",
            "Recall: 0.2384\n",
            "F1 Score: 0.3071\n",
            "ROC-AUC: 0.7603\n",
            "\n",
            "Best performing model: CatBoost\n",
            "\n",
            "Detailed results for all models:\n",
            "                  Model  accuracy  precision    recall        f1   roc_auc\n",
            "10             CatBoost    0.9075   0.431579  0.238372  0.307116  0.760298\n",
            "11      Voting Ensemble    0.9085   0.445545  0.261628  0.329670  0.749682\n",
            "9              LightGBM    0.9025   0.398230  0.261628  0.315789  0.746412\n",
            "3     Gradient Boosting    0.8820   0.327957  0.354651  0.340782  0.744994\n",
            "2         Random Forest    0.9000   0.393939  0.302326  0.342105  0.740711\n",
            "5           Extra Trees    0.9050   0.422414  0.284884  0.340278  0.736020\n",
            "8               XGBoost    0.9050   0.406250  0.226744  0.291045  0.730268\n",
            "4              AdaBoost    0.8470   0.244275  0.372093  0.294931  0.727934\n",
            "0   Logistic Regression    0.5925   0.120425  0.593023  0.200196  0.666703\n",
            "6                   SVM    0.9140   0.000000  0.000000  0.000000  0.663169\n",
            "7                   KNN    0.7520   0.162500  0.453488  0.239264  0.634497\n",
            "1         Decision Tree    0.8275   0.204778  0.348837  0.258065  0.610688\n"
          ]
        }
      ],
      "source": [
        "# 1. Split the data\n",
        "X_train = df_train_resampled.drop('label', axis=1)  # Features\n",
        "y_train = df_train_resampled['label']  # Target\n",
        "X_test = df_test.drop('label', axis=1)  # Features\n",
        "y_test = df_test['label']  # Target\n",
        "\n",
        "# 2. Run AutoML\n",
        "best_model, best_model_name, results_df, trained_models = auto_ml_model_selection(\n",
        "    X_train, X_test, y_train, y_test\n",
        ")\n",
        "\n",
        "# 3. Print best model details\n",
        "print(f\"\\nBest performing model: {best_model_name}\")\n",
        "\n",
        "# 4. If you want to use the best model for predictions later\n",
        "predictions = best_model.predict(X_test)\n",
        "probabilities = best_model.predict_proba(X_test)\n",
        "\n",
        "# 5. If you want to see the full results dataframe\n",
        "print(\"\\nDetailed results for all models:\")\n",
        "print(results_df.sort_values('roc_auc', ascending=False))\n",
        "\n",
        "# 6. Access any specific trained model if needed\n",
        "# Example: if you want to access the Random Forest model specifically\n",
        "# rf_model = trained_models['Random Forest']"
      ]
    },
    {
      "cell_type": "code",
      "execution_count": null,
      "metadata": {
        "colab": {
          "base_uri": "https://localhost:8080/",
          "height": 1000
        },
        "id": "hxfwdtiDJwM_",
        "outputId": "fbee93e8-1769-4a9e-aef4-7d97c9f41fb9"
      },
      "outputs": [
        {
          "name": "stderr",
          "output_type": "stream",
          "text": [
            "[I 2024-10-22 08:26:10,456] A new study created in memory with name: no-name-13cb7b5c-9db8-492e-a3db-8fd7696927ba\n",
            "<ipython-input-109-b0f097afd503>:21: FutureWarning: suggest_loguniform has been deprecated in v3.0.0. This feature will be removed in v6.0.0. See https://github.com/optuna/optuna/releases/tag/v3.0.0. Use suggest_float(..., log=True) instead.\n",
            "  'learning_rate': trial.suggest_loguniform('learning_rate', 1e-5, 0.3),\n",
            "/usr/local/lib/python3.10/dist-packages/xgboost/core.py:158: UserWarning: [08:26:11] WARNING: /workspace/src/learner.cc:740: \n",
            "Parameters: { \"use_label_encoder\" } are not used.\n",
            "\n",
            "  warnings.warn(smsg, UserWarning)\n",
            "[I 2024-10-22 08:27:43,971] Trial 0 finished with value: 0.754961579563381 and parameters: {'learning_rate': 0.0013731091368676509, 'max_depth': 12, 'n_estimators': 398, 'subsample': 0.6248242270455394, 'colsample_bytree': 0.8171683613471901, 'gamma': 2.125920629593038}. Best is trial 0 with value: 0.754961579563381.\n",
            "<ipython-input-109-b0f097afd503>:21: FutureWarning: suggest_loguniform has been deprecated in v3.0.0. This feature will be removed in v6.0.0. See https://github.com/optuna/optuna/releases/tag/v3.0.0. Use suggest_float(..., log=True) instead.\n",
            "  'learning_rate': trial.suggest_loguniform('learning_rate', 1e-5, 0.3),\n",
            "/usr/local/lib/python3.10/dist-packages/xgboost/core.py:158: UserWarning: [08:27:44] WARNING: /workspace/src/learner.cc:740: \n",
            "Parameters: { \"use_label_encoder\" } are not used.\n",
            "\n",
            "  warnings.warn(smsg, UserWarning)\n",
            "[I 2024-10-22 08:27:50,975] Trial 1 finished with value: 0.7204467966006818 and parameters: {'learning_rate': 0.2543408098515226, 'max_depth': 12, 'n_estimators': 182, 'subsample': 0.6167085820452598, 'colsample_bytree': 0.988008931314238, 'gamma': 0.6739146967840859}. Best is trial 0 with value: 0.754961579563381.\n",
            "<ipython-input-109-b0f097afd503>:21: FutureWarning: suggest_loguniform has been deprecated in v3.0.0. This feature will be removed in v6.0.0. See https://github.com/optuna/optuna/releases/tag/v3.0.0. Use suggest_float(..., log=True) instead.\n",
            "  'learning_rate': trial.suggest_loguniform('learning_rate', 1e-5, 0.3),\n",
            "/usr/local/lib/python3.10/dist-packages/xgboost/core.py:158: UserWarning: [08:27:51] WARNING: /workspace/src/learner.cc:740: \n",
            "Parameters: { \"use_label_encoder\" } are not used.\n",
            "\n",
            "  warnings.warn(smsg, UserWarning)\n",
            "[I 2024-10-22 08:27:57,624] Trial 2 finished with value: 0.7507617296829677 and parameters: {'learning_rate': 0.004745865202998283, 'max_depth': 4, 'n_estimators': 287, 'subsample': 0.9706962427933468, 'colsample_bytree': 0.5709174846935566, 'gamma': 7.114967353315204}. Best is trial 0 with value: 0.754961579563381.\n",
            "<ipython-input-109-b0f097afd503>:21: FutureWarning: suggest_loguniform has been deprecated in v3.0.0. This feature will be removed in v6.0.0. See https://github.com/optuna/optuna/releases/tag/v3.0.0. Use suggest_float(..., log=True) instead.\n",
            "  'learning_rate': trial.suggest_loguniform('learning_rate', 1e-5, 0.3),\n",
            "/usr/local/lib/python3.10/dist-packages/xgboost/core.py:158: UserWarning: [08:27:58] WARNING: /workspace/src/learner.cc:740: \n",
            "Parameters: { \"use_label_encoder\" } are not used.\n",
            "\n",
            "  warnings.warn(smsg, UserWarning)\n",
            "[I 2024-10-22 08:28:56,224] Trial 3 finished with value: 0.7539978881481859 and parameters: {'learning_rate': 0.0001792475791719691, 'max_depth': 15, 'n_estimators': 370, 'subsample': 0.659146880995837, 'colsample_bytree': 0.7247514281951208, 'gamma': 4.504908138419407}. Best is trial 0 with value: 0.754961579563381.\n",
            "<ipython-input-109-b0f097afd503>:21: FutureWarning: suggest_loguniform has been deprecated in v3.0.0. This feature will be removed in v6.0.0. See https://github.com/optuna/optuna/releases/tag/v3.0.0. Use suggest_float(..., log=True) instead.\n",
            "  'learning_rate': trial.suggest_loguniform('learning_rate', 1e-5, 0.3),\n",
            "/usr/local/lib/python3.10/dist-packages/xgboost/core.py:158: UserWarning: [08:28:57] WARNING: /workspace/src/learner.cc:740: \n",
            "Parameters: { \"use_label_encoder\" } are not used.\n",
            "\n",
            "  warnings.warn(smsg, UserWarning)\n",
            "[I 2024-10-22 08:29:11,745] Trial 4 finished with value: 0.7448714442013129 and parameters: {'learning_rate': 0.0006009648327849771, 'max_depth': 6, 'n_estimators': 259, 'subsample': 0.8949410106554323, 'colsample_bytree': 0.7889109562341547, 'gamma': 2.1408531044914403}. Best is trial 0 with value: 0.754961579563381.\n",
            "<ipython-input-109-b0f097afd503>:21: FutureWarning: suggest_loguniform has been deprecated in v3.0.0. This feature will be removed in v6.0.0. See https://github.com/optuna/optuna/releases/tag/v3.0.0. Use suggest_float(..., log=True) instead.\n",
            "  'learning_rate': trial.suggest_loguniform('learning_rate', 1e-5, 0.3),\n",
            "/usr/local/lib/python3.10/dist-packages/xgboost/core.py:158: UserWarning: [08:29:12] WARNING: /workspace/src/learner.cc:740: \n",
            "Parameters: { \"use_label_encoder\" } are not used.\n",
            "\n",
            "  warnings.warn(smsg, UserWarning)\n",
            "[I 2024-10-22 08:29:55,942] Trial 5 finished with value: 0.7555595135107629 and parameters: {'learning_rate': 0.006138887844241688, 'max_depth': 13, 'n_estimators': 310, 'subsample': 0.7054829539284978, 'colsample_bytree': 0.7167858295470195, 'gamma': 3.4034263857539915}. Best is trial 5 with value: 0.7555595135107629.\n",
            "<ipython-input-109-b0f097afd503>:21: FutureWarning: suggest_loguniform has been deprecated in v3.0.0. This feature will be removed in v6.0.0. See https://github.com/optuna/optuna/releases/tag/v3.0.0. Use suggest_float(..., log=True) instead.\n",
            "  'learning_rate': trial.suggest_loguniform('learning_rate', 1e-5, 0.3),\n",
            "/usr/local/lib/python3.10/dist-packages/xgboost/core.py:158: UserWarning: [08:29:56] WARNING: /workspace/src/learner.cc:740: \n",
            "Parameters: { \"use_label_encoder\" } are not used.\n",
            "\n",
            "  warnings.warn(smsg, UserWarning)\n",
            "[I 2024-10-22 08:31:25,860] Trial 6 finished with value: 0.7405062083354537 and parameters: {'learning_rate': 2.3103604265842247e-05, 'max_depth': 15, 'n_estimators': 412, 'subsample': 0.965584181658638, 'colsample_bytree': 0.8989023300378367, 'gamma': 4.520269244383148}. Best is trial 5 with value: 0.7555595135107629.\n",
            "<ipython-input-109-b0f097afd503>:21: FutureWarning: suggest_loguniform has been deprecated in v3.0.0. This feature will be removed in v6.0.0. See https://github.com/optuna/optuna/releases/tag/v3.0.0. Use suggest_float(..., log=True) instead.\n",
            "  'learning_rate': trial.suggest_loguniform('learning_rate', 1e-5, 0.3),\n",
            "/usr/local/lib/python3.10/dist-packages/xgboost/core.py:158: UserWarning: [08:31:26] WARNING: /workspace/src/learner.cc:740: \n",
            "Parameters: { \"use_label_encoder\" } are not used.\n",
            "\n",
            "  warnings.warn(smsg, UserWarning)\n",
            "[W 2024-10-22 08:31:32,694] Trial 7 failed with parameters: {'learning_rate': 0.0008081096419361617, 'max_depth': 3, 'n_estimators': 419, 'subsample': 0.6798794200397864, 'colsample_bytree': 0.6633056059104478, 'gamma': 6.739890917956303} because of the following error: KeyboardInterrupt().\n",
            "Traceback (most recent call last):\n",
            "  File \"/usr/local/lib/python3.10/dist-packages/optuna/study/_optimize.py\", line 197, in _run_trial\n",
            "    value_or_values = func(trial)\n",
            "  File \"<ipython-input-109-b0f097afd503>\", line 31, in objective\n",
            "    clf.fit(X_train, y_train)\n",
            "  File \"/usr/local/lib/python3.10/dist-packages/xgboost/core.py\", line 726, in inner_f\n",
            "    return func(**kwargs)\n",
            "  File \"/usr/local/lib/python3.10/dist-packages/xgboost/sklearn.py\", line 1531, in fit\n",
            "    self._Booster = train(\n",
            "  File \"/usr/local/lib/python3.10/dist-packages/xgboost/core.py\", line 726, in inner_f\n",
            "    return func(**kwargs)\n",
            "  File \"/usr/local/lib/python3.10/dist-packages/xgboost/training.py\", line 181, in train\n",
            "    bst.update(dtrain, iteration=i, fobj=obj)\n",
            "  File \"/usr/local/lib/python3.10/dist-packages/xgboost/core.py\", line 2101, in update\n",
            "    _LIB.XGBoosterUpdateOneIter(\n",
            "KeyboardInterrupt\n",
            "[W 2024-10-22 08:31:32,705] Trial 7 failed with value None.\n"
          ]
        },
        {
          "ename": "KeyboardInterrupt",
          "evalue": "",
          "output_type": "error",
          "traceback": [
            "\u001b[0;31m---------------------------------------------------------------------------\u001b[0m",
            "\u001b[0;31mKeyboardInterrupt\u001b[0m                         Traceback (most recent call last)",
            "\u001b[0;32m<ipython-input-109-b0f097afd503>\u001b[0m in \u001b[0;36m<cell line: 42>\u001b[0;34m()\u001b[0m\n\u001b[1;32m     40\u001b[0m \u001b[0;31m# 3. Create and run the Optuna study\u001b[0m\u001b[0;34m\u001b[0m\u001b[0;34m\u001b[0m\u001b[0m\n\u001b[1;32m     41\u001b[0m \u001b[0mstudy\u001b[0m \u001b[0;34m=\u001b[0m \u001b[0moptuna\u001b[0m\u001b[0;34m.\u001b[0m\u001b[0mcreate_study\u001b[0m\u001b[0;34m(\u001b[0m\u001b[0mdirection\u001b[0m\u001b[0;34m=\u001b[0m\u001b[0;34m'maximize'\u001b[0m\u001b[0;34m)\u001b[0m  \u001b[0;31m# Maximize ROC AUC\u001b[0m\u001b[0;34m\u001b[0m\u001b[0;34m\u001b[0m\u001b[0m\n\u001b[0;32m---> 42\u001b[0;31m \u001b[0mstudy\u001b[0m\u001b[0;34m.\u001b[0m\u001b[0moptimize\u001b[0m\u001b[0;34m(\u001b[0m\u001b[0mobjective\u001b[0m\u001b[0;34m,\u001b[0m \u001b[0mn_trials\u001b[0m\u001b[0;34m=\u001b[0m\u001b[0;36m100\u001b[0m\u001b[0;34m)\u001b[0m  \u001b[0;31m# Adjust the number of trials as needed\u001b[0m\u001b[0;34m\u001b[0m\u001b[0;34m\u001b[0m\u001b[0m\n\u001b[0m\u001b[1;32m     43\u001b[0m \u001b[0;34m\u001b[0m\u001b[0m\n\u001b[1;32m     44\u001b[0m \u001b[0;31m# 4. Print the best hyperparameters and score\u001b[0m\u001b[0;34m\u001b[0m\u001b[0;34m\u001b[0m\u001b[0m\n",
            "\u001b[0;32m/usr/local/lib/python3.10/dist-packages/optuna/study/study.py\u001b[0m in \u001b[0;36moptimize\u001b[0;34m(self, func, n_trials, timeout, n_jobs, catch, callbacks, gc_after_trial, show_progress_bar)\u001b[0m\n\u001b[1;32m    473\u001b[0m                 \u001b[0mIf\u001b[0m \u001b[0mnested\u001b[0m \u001b[0minvocation\u001b[0m \u001b[0mof\u001b[0m \u001b[0mthis\u001b[0m \u001b[0mmethod\u001b[0m \u001b[0moccurs\u001b[0m\u001b[0;34m.\u001b[0m\u001b[0;34m\u001b[0m\u001b[0;34m\u001b[0m\u001b[0m\n\u001b[1;32m    474\u001b[0m         \"\"\"\n\u001b[0;32m--> 475\u001b[0;31m         _optimize(\n\u001b[0m\u001b[1;32m    476\u001b[0m             \u001b[0mstudy\u001b[0m\u001b[0;34m=\u001b[0m\u001b[0mself\u001b[0m\u001b[0;34m,\u001b[0m\u001b[0;34m\u001b[0m\u001b[0;34m\u001b[0m\u001b[0m\n\u001b[1;32m    477\u001b[0m             \u001b[0mfunc\u001b[0m\u001b[0;34m=\u001b[0m\u001b[0mfunc\u001b[0m\u001b[0;34m,\u001b[0m\u001b[0;34m\u001b[0m\u001b[0;34m\u001b[0m\u001b[0m\n",
            "\u001b[0;32m/usr/local/lib/python3.10/dist-packages/optuna/study/_optimize.py\u001b[0m in \u001b[0;36m_optimize\u001b[0;34m(study, func, n_trials, timeout, n_jobs, catch, callbacks, gc_after_trial, show_progress_bar)\u001b[0m\n\u001b[1;32m     61\u001b[0m     \u001b[0;32mtry\u001b[0m\u001b[0;34m:\u001b[0m\u001b[0;34m\u001b[0m\u001b[0;34m\u001b[0m\u001b[0m\n\u001b[1;32m     62\u001b[0m         \u001b[0;32mif\u001b[0m \u001b[0mn_jobs\u001b[0m \u001b[0;34m==\u001b[0m \u001b[0;36m1\u001b[0m\u001b[0;34m:\u001b[0m\u001b[0;34m\u001b[0m\u001b[0;34m\u001b[0m\u001b[0m\n\u001b[0;32m---> 63\u001b[0;31m             _optimize_sequential(\n\u001b[0m\u001b[1;32m     64\u001b[0m                 \u001b[0mstudy\u001b[0m\u001b[0;34m,\u001b[0m\u001b[0;34m\u001b[0m\u001b[0;34m\u001b[0m\u001b[0m\n\u001b[1;32m     65\u001b[0m                 \u001b[0mfunc\u001b[0m\u001b[0;34m,\u001b[0m\u001b[0;34m\u001b[0m\u001b[0;34m\u001b[0m\u001b[0m\n",
            "\u001b[0;32m/usr/local/lib/python3.10/dist-packages/optuna/study/_optimize.py\u001b[0m in \u001b[0;36m_optimize_sequential\u001b[0;34m(study, func, n_trials, timeout, catch, callbacks, gc_after_trial, reseed_sampler_rng, time_start, progress_bar)\u001b[0m\n\u001b[1;32m    158\u001b[0m \u001b[0;34m\u001b[0m\u001b[0m\n\u001b[1;32m    159\u001b[0m         \u001b[0;32mtry\u001b[0m\u001b[0;34m:\u001b[0m\u001b[0;34m\u001b[0m\u001b[0;34m\u001b[0m\u001b[0m\n\u001b[0;32m--> 160\u001b[0;31m             \u001b[0mfrozen_trial\u001b[0m \u001b[0;34m=\u001b[0m \u001b[0m_run_trial\u001b[0m\u001b[0;34m(\u001b[0m\u001b[0mstudy\u001b[0m\u001b[0;34m,\u001b[0m \u001b[0mfunc\u001b[0m\u001b[0;34m,\u001b[0m \u001b[0mcatch\u001b[0m\u001b[0;34m)\u001b[0m\u001b[0;34m\u001b[0m\u001b[0;34m\u001b[0m\u001b[0m\n\u001b[0m\u001b[1;32m    161\u001b[0m         \u001b[0;32mfinally\u001b[0m\u001b[0;34m:\u001b[0m\u001b[0;34m\u001b[0m\u001b[0;34m\u001b[0m\u001b[0m\n\u001b[1;32m    162\u001b[0m             \u001b[0;31m# The following line mitigates memory problems that can be occurred in some\u001b[0m\u001b[0;34m\u001b[0m\u001b[0;34m\u001b[0m\u001b[0m\n",
            "\u001b[0;32m/usr/local/lib/python3.10/dist-packages/optuna/study/_optimize.py\u001b[0m in \u001b[0;36m_run_trial\u001b[0;34m(study, func, catch)\u001b[0m\n\u001b[1;32m    246\u001b[0m         \u001b[0;32mand\u001b[0m \u001b[0;32mnot\u001b[0m \u001b[0misinstance\u001b[0m\u001b[0;34m(\u001b[0m\u001b[0mfunc_err\u001b[0m\u001b[0;34m,\u001b[0m \u001b[0mcatch\u001b[0m\u001b[0;34m)\u001b[0m\u001b[0;34m\u001b[0m\u001b[0;34m\u001b[0m\u001b[0m\n\u001b[1;32m    247\u001b[0m     ):\n\u001b[0;32m--> 248\u001b[0;31m         \u001b[0;32mraise\u001b[0m \u001b[0mfunc_err\u001b[0m\u001b[0;34m\u001b[0m\u001b[0;34m\u001b[0m\u001b[0m\n\u001b[0m\u001b[1;32m    249\u001b[0m     \u001b[0;32mreturn\u001b[0m \u001b[0mfrozen_trial\u001b[0m\u001b[0;34m\u001b[0m\u001b[0;34m\u001b[0m\u001b[0m\n\u001b[1;32m    250\u001b[0m \u001b[0;34m\u001b[0m\u001b[0m\n",
            "\u001b[0;32m/usr/local/lib/python3.10/dist-packages/optuna/study/_optimize.py\u001b[0m in \u001b[0;36m_run_trial\u001b[0;34m(study, func, catch)\u001b[0m\n\u001b[1;32m    195\u001b[0m     \u001b[0;32mwith\u001b[0m \u001b[0mget_heartbeat_thread\u001b[0m\u001b[0;34m(\u001b[0m\u001b[0mtrial\u001b[0m\u001b[0;34m.\u001b[0m\u001b[0m_trial_id\u001b[0m\u001b[0;34m,\u001b[0m \u001b[0mstudy\u001b[0m\u001b[0;34m.\u001b[0m\u001b[0m_storage\u001b[0m\u001b[0;34m)\u001b[0m\u001b[0;34m:\u001b[0m\u001b[0;34m\u001b[0m\u001b[0;34m\u001b[0m\u001b[0m\n\u001b[1;32m    196\u001b[0m         \u001b[0;32mtry\u001b[0m\u001b[0;34m:\u001b[0m\u001b[0;34m\u001b[0m\u001b[0;34m\u001b[0m\u001b[0m\n\u001b[0;32m--> 197\u001b[0;31m             \u001b[0mvalue_or_values\u001b[0m \u001b[0;34m=\u001b[0m \u001b[0mfunc\u001b[0m\u001b[0;34m(\u001b[0m\u001b[0mtrial\u001b[0m\u001b[0;34m)\u001b[0m\u001b[0;34m\u001b[0m\u001b[0;34m\u001b[0m\u001b[0m\n\u001b[0m\u001b[1;32m    198\u001b[0m         \u001b[0;32mexcept\u001b[0m \u001b[0mexceptions\u001b[0m\u001b[0;34m.\u001b[0m\u001b[0mTrialPruned\u001b[0m \u001b[0;32mas\u001b[0m \u001b[0me\u001b[0m\u001b[0;34m:\u001b[0m\u001b[0;34m\u001b[0m\u001b[0;34m\u001b[0m\u001b[0m\n\u001b[1;32m    199\u001b[0m             \u001b[0;31m# TODO(mamu): Handle multi-objective cases.\u001b[0m\u001b[0;34m\u001b[0m\u001b[0;34m\u001b[0m\u001b[0m\n",
            "\u001b[0;32m<ipython-input-109-b0f097afd503>\u001b[0m in \u001b[0;36mobjective\u001b[0;34m(trial)\u001b[0m\n\u001b[1;32m     29\u001b[0m     \u001b[0;31m# Create and train the model\u001b[0m\u001b[0;34m\u001b[0m\u001b[0;34m\u001b[0m\u001b[0m\n\u001b[1;32m     30\u001b[0m     \u001b[0mclf\u001b[0m \u001b[0;34m=\u001b[0m \u001b[0mXGBClassifier\u001b[0m\u001b[0;34m(\u001b[0m\u001b[0;34m**\u001b[0m\u001b[0mparam\u001b[0m\u001b[0;34m)\u001b[0m\u001b[0;34m\u001b[0m\u001b[0;34m\u001b[0m\u001b[0m\n\u001b[0;32m---> 31\u001b[0;31m     \u001b[0mclf\u001b[0m\u001b[0;34m.\u001b[0m\u001b[0mfit\u001b[0m\u001b[0;34m(\u001b[0m\u001b[0mX_train\u001b[0m\u001b[0;34m,\u001b[0m \u001b[0my_train\u001b[0m\u001b[0;34m)\u001b[0m\u001b[0;34m\u001b[0m\u001b[0;34m\u001b[0m\u001b[0m\n\u001b[0m\u001b[1;32m     32\u001b[0m \u001b[0;34m\u001b[0m\u001b[0m\n\u001b[1;32m     33\u001b[0m     \u001b[0;31m# Make predictions\u001b[0m\u001b[0;34m\u001b[0m\u001b[0;34m\u001b[0m\u001b[0m\n",
            "\u001b[0;32m/usr/local/lib/python3.10/dist-packages/xgboost/core.py\u001b[0m in \u001b[0;36minner_f\u001b[0;34m(*args, **kwargs)\u001b[0m\n\u001b[1;32m    724\u001b[0m             \u001b[0;32mfor\u001b[0m \u001b[0mk\u001b[0m\u001b[0;34m,\u001b[0m \u001b[0marg\u001b[0m \u001b[0;32min\u001b[0m \u001b[0mzip\u001b[0m\u001b[0;34m(\u001b[0m\u001b[0msig\u001b[0m\u001b[0;34m.\u001b[0m\u001b[0mparameters\u001b[0m\u001b[0;34m,\u001b[0m \u001b[0margs\u001b[0m\u001b[0;34m)\u001b[0m\u001b[0;34m:\u001b[0m\u001b[0;34m\u001b[0m\u001b[0;34m\u001b[0m\u001b[0m\n\u001b[1;32m    725\u001b[0m                 \u001b[0mkwargs\u001b[0m\u001b[0;34m[\u001b[0m\u001b[0mk\u001b[0m\u001b[0;34m]\u001b[0m \u001b[0;34m=\u001b[0m \u001b[0marg\u001b[0m\u001b[0;34m\u001b[0m\u001b[0;34m\u001b[0m\u001b[0m\n\u001b[0;32m--> 726\u001b[0;31m             \u001b[0;32mreturn\u001b[0m \u001b[0mfunc\u001b[0m\u001b[0;34m(\u001b[0m\u001b[0;34m**\u001b[0m\u001b[0mkwargs\u001b[0m\u001b[0;34m)\u001b[0m\u001b[0;34m\u001b[0m\u001b[0;34m\u001b[0m\u001b[0m\n\u001b[0m\u001b[1;32m    727\u001b[0m \u001b[0;34m\u001b[0m\u001b[0m\n\u001b[1;32m    728\u001b[0m         \u001b[0;32mreturn\u001b[0m \u001b[0minner_f\u001b[0m\u001b[0;34m\u001b[0m\u001b[0;34m\u001b[0m\u001b[0m\n",
            "\u001b[0;32m/usr/local/lib/python3.10/dist-packages/xgboost/sklearn.py\u001b[0m in \u001b[0;36mfit\u001b[0;34m(self, X, y, sample_weight, base_margin, eval_set, verbose, xgb_model, sample_weight_eval_set, base_margin_eval_set, feature_weights)\u001b[0m\n\u001b[1;32m   1529\u001b[0m             )\n\u001b[1;32m   1530\u001b[0m \u001b[0;34m\u001b[0m\u001b[0m\n\u001b[0;32m-> 1531\u001b[0;31m             self._Booster = train(\n\u001b[0m\u001b[1;32m   1532\u001b[0m                 \u001b[0mparams\u001b[0m\u001b[0;34m,\u001b[0m\u001b[0;34m\u001b[0m\u001b[0;34m\u001b[0m\u001b[0m\n\u001b[1;32m   1533\u001b[0m                 \u001b[0mtrain_dmatrix\u001b[0m\u001b[0;34m,\u001b[0m\u001b[0;34m\u001b[0m\u001b[0;34m\u001b[0m\u001b[0m\n",
            "\u001b[0;32m/usr/local/lib/python3.10/dist-packages/xgboost/core.py\u001b[0m in \u001b[0;36minner_f\u001b[0;34m(*args, **kwargs)\u001b[0m\n\u001b[1;32m    724\u001b[0m             \u001b[0;32mfor\u001b[0m \u001b[0mk\u001b[0m\u001b[0;34m,\u001b[0m \u001b[0marg\u001b[0m \u001b[0;32min\u001b[0m \u001b[0mzip\u001b[0m\u001b[0;34m(\u001b[0m\u001b[0msig\u001b[0m\u001b[0;34m.\u001b[0m\u001b[0mparameters\u001b[0m\u001b[0;34m,\u001b[0m \u001b[0margs\u001b[0m\u001b[0;34m)\u001b[0m\u001b[0;34m:\u001b[0m\u001b[0;34m\u001b[0m\u001b[0;34m\u001b[0m\u001b[0m\n\u001b[1;32m    725\u001b[0m                 \u001b[0mkwargs\u001b[0m\u001b[0;34m[\u001b[0m\u001b[0mk\u001b[0m\u001b[0;34m]\u001b[0m \u001b[0;34m=\u001b[0m \u001b[0marg\u001b[0m\u001b[0;34m\u001b[0m\u001b[0;34m\u001b[0m\u001b[0m\n\u001b[0;32m--> 726\u001b[0;31m             \u001b[0;32mreturn\u001b[0m \u001b[0mfunc\u001b[0m\u001b[0;34m(\u001b[0m\u001b[0;34m**\u001b[0m\u001b[0mkwargs\u001b[0m\u001b[0;34m)\u001b[0m\u001b[0;34m\u001b[0m\u001b[0;34m\u001b[0m\u001b[0m\n\u001b[0m\u001b[1;32m    727\u001b[0m \u001b[0;34m\u001b[0m\u001b[0m\n\u001b[1;32m    728\u001b[0m         \u001b[0;32mreturn\u001b[0m \u001b[0minner_f\u001b[0m\u001b[0;34m\u001b[0m\u001b[0;34m\u001b[0m\u001b[0m\n",
            "\u001b[0;32m/usr/local/lib/python3.10/dist-packages/xgboost/training.py\u001b[0m in \u001b[0;36mtrain\u001b[0;34m(params, dtrain, num_boost_round, evals, obj, feval, maximize, early_stopping_rounds, evals_result, verbose_eval, xgb_model, callbacks, custom_metric)\u001b[0m\n\u001b[1;32m    179\u001b[0m         \u001b[0;32mif\u001b[0m \u001b[0mcb_container\u001b[0m\u001b[0;34m.\u001b[0m\u001b[0mbefore_iteration\u001b[0m\u001b[0;34m(\u001b[0m\u001b[0mbst\u001b[0m\u001b[0;34m,\u001b[0m \u001b[0mi\u001b[0m\u001b[0;34m,\u001b[0m \u001b[0mdtrain\u001b[0m\u001b[0;34m,\u001b[0m \u001b[0mevals\u001b[0m\u001b[0;34m)\u001b[0m\u001b[0;34m:\u001b[0m\u001b[0;34m\u001b[0m\u001b[0;34m\u001b[0m\u001b[0m\n\u001b[1;32m    180\u001b[0m             \u001b[0;32mbreak\u001b[0m\u001b[0;34m\u001b[0m\u001b[0;34m\u001b[0m\u001b[0m\n\u001b[0;32m--> 181\u001b[0;31m         \u001b[0mbst\u001b[0m\u001b[0;34m.\u001b[0m\u001b[0mupdate\u001b[0m\u001b[0;34m(\u001b[0m\u001b[0mdtrain\u001b[0m\u001b[0;34m,\u001b[0m \u001b[0miteration\u001b[0m\u001b[0;34m=\u001b[0m\u001b[0mi\u001b[0m\u001b[0;34m,\u001b[0m \u001b[0mfobj\u001b[0m\u001b[0;34m=\u001b[0m\u001b[0mobj\u001b[0m\u001b[0;34m)\u001b[0m\u001b[0;34m\u001b[0m\u001b[0;34m\u001b[0m\u001b[0m\n\u001b[0m\u001b[1;32m    182\u001b[0m         \u001b[0;32mif\u001b[0m \u001b[0mcb_container\u001b[0m\u001b[0;34m.\u001b[0m\u001b[0mafter_iteration\u001b[0m\u001b[0;34m(\u001b[0m\u001b[0mbst\u001b[0m\u001b[0;34m,\u001b[0m \u001b[0mi\u001b[0m\u001b[0;34m,\u001b[0m \u001b[0mdtrain\u001b[0m\u001b[0;34m,\u001b[0m \u001b[0mevals\u001b[0m\u001b[0;34m)\u001b[0m\u001b[0;34m:\u001b[0m\u001b[0;34m\u001b[0m\u001b[0;34m\u001b[0m\u001b[0m\n\u001b[1;32m    183\u001b[0m             \u001b[0;32mbreak\u001b[0m\u001b[0;34m\u001b[0m\u001b[0;34m\u001b[0m\u001b[0m\n",
            "\u001b[0;32m/usr/local/lib/python3.10/dist-packages/xgboost/core.py\u001b[0m in \u001b[0;36mupdate\u001b[0;34m(self, dtrain, iteration, fobj)\u001b[0m\n\u001b[1;32m   2099\u001b[0m         \u001b[0;32mif\u001b[0m \u001b[0mfobj\u001b[0m \u001b[0;32mis\u001b[0m \u001b[0;32mNone\u001b[0m\u001b[0;34m:\u001b[0m\u001b[0;34m\u001b[0m\u001b[0;34m\u001b[0m\u001b[0m\n\u001b[1;32m   2100\u001b[0m             _check_call(\n\u001b[0;32m-> 2101\u001b[0;31m                 _LIB.XGBoosterUpdateOneIter(\n\u001b[0m\u001b[1;32m   2102\u001b[0m                     \u001b[0mself\u001b[0m\u001b[0;34m.\u001b[0m\u001b[0mhandle\u001b[0m\u001b[0;34m,\u001b[0m \u001b[0mctypes\u001b[0m\u001b[0;34m.\u001b[0m\u001b[0mc_int\u001b[0m\u001b[0;34m(\u001b[0m\u001b[0miteration\u001b[0m\u001b[0;34m)\u001b[0m\u001b[0;34m,\u001b[0m \u001b[0mdtrain\u001b[0m\u001b[0;34m.\u001b[0m\u001b[0mhandle\u001b[0m\u001b[0;34m\u001b[0m\u001b[0;34m\u001b[0m\u001b[0m\n\u001b[1;32m   2103\u001b[0m                 )\n",
            "\u001b[0;31mKeyboardInterrupt\u001b[0m: "
          ]
        }
      ],
      "source": [
        "import optuna\n",
        "from sklearn.metrics import roc_auc_score\n",
        "from xgboost import XGBClassifier\n",
        "from sklearn.model_selection import train_test_split\n",
        "\n",
        "# 1. Separate features and target\n",
        "X_train = df_train_resampled.drop('label', axis=1)  # Features\n",
        "y_train = df_train_resampled['label']  # Target\n",
        "\n",
        "X_test = df_test.drop('label', axis=1)  # Test Features\n",
        "y_test = df_test['label']  # Test Target\n",
        "\n",
        "# 2. Define the objective function for Optuna\n",
        "def objective(trial):\n",
        "    # Define hyperparameters to tune\n",
        "    param = {\n",
        "        'objective': 'binary:logistic',\n",
        "        'eval_metric': 'logloss',\n",
        "        'use_label_encoder': False,\n",
        "        'random_state': 42,\n",
        "        'learning_rate': trial.suggest_loguniform('learning_rate', 1e-5, 0.3),\n",
        "        'max_depth': trial.suggest_int('max_depth', 3, 15),\n",
        "        'n_estimators': trial.suggest_int('n_estimators', 50, 500),\n",
        "        'subsample': trial.suggest_float('subsample', 0.5, 1.0),\n",
        "        'colsample_bytree': trial.suggest_float('colsample_bytree', 0.5, 1.0),\n",
        "        'gamma': trial.suggest_float('gamma', 0, 10),\n",
        "    }\n",
        "\n",
        "    # Create and train the model\n",
        "    clf = XGBClassifier(**param)\n",
        "    clf.fit(X_train, y_train)\n",
        "\n",
        "    # Make predictions\n",
        "    y_proba = clf.predict_proba(X_test)[:, 1]\n",
        "\n",
        "    # Calculate ROC AUC score\n",
        "    roc_auc = roc_auc_score(y_test, y_proba)\n",
        "    return roc_auc\n",
        "\n",
        "# 3. Create and run the Optuna study\n",
        "study = optuna.create_study(direction='maximize')  # Maximize ROC AUC\n",
        "study.optimize(objective, n_trials=100)  # Adjust the number of trials as needed\n",
        "\n",
        "# 4. Print the best hyperparameters and score\n",
        "print(\"Best hyperparameters: \", study.best_params)\n",
        "print(\"Best ROC AUC score: \", study.best_value)\n"
      ]
    },
    {
      "cell_type": "code",
      "execution_count": null,
      "metadata": {
        "id": "BcgbfkejMYon"
      },
      "outputs": [],
      "source": [
        "%%capture\n",
        "%pip install umap"
      ]
    },
    {
      "cell_type": "code",
      "execution_count": null,
      "metadata": {
        "colab": {
          "base_uri": "https://localhost:8080/"
        },
        "id": "9OWrEQN1LDFh",
        "outputId": "e5464b1b-cde6-4193-c44d-0cc2667c1e0a"
      },
      "outputs": [
        {
          "name": "stdout",
          "output_type": "stream",
          "text": [
            "t-SNE clustering plot saved as 'tsne_clustering_plot.png'\n"
          ]
        }
      ],
      "source": [
        "import pandas as pd\n",
        "import matplotlib.pyplot as plt\n",
        "from sklearn.manifold import TSNE\n",
        "from sklearn.cluster import KMeans\n",
        "\n",
        "# Assuming resampled_df is already defined and has the features\n",
        "X = resampled_df.drop('label', axis=1)  # Features\n",
        "\n",
        "# 1. Apply t-SNE to reduce dimensions to 2\n",
        "tsne = TSNE(n_components=2, random_state=42)\n",
        "X_tsne = tsne.fit_transform(X)\n",
        "\n",
        "# 2. Perform KMeans clustering with n_clusters=2\n",
        "kmeans = KMeans(n_clusters=2, random_state=42)\n",
        "clusters = kmeans.fit_predict(X_tsne)\n",
        "\n",
        "# 3. Plot the results\n",
        "plt.figure(figsize=(10, 6))\n",
        "scatter = plt.scatter(X_tsne[:, 0], X_tsne[:, 1], c=clusters, cmap='viridis', alpha=0.5)\n",
        "plt.title('t-SNE Clustering Representation (n_clusters=2)')\n",
        "plt.xlabel('t-SNE Component 1')\n",
        "plt.ylabel('t-SNE Component 2')\n",
        "plt.colorbar(scatter, label='Cluster Label')\n",
        "plt.grid()\n",
        "\n",
        "# Save the plot\n",
        "plt.savefig('tsne_clustering_plot.png')\n",
        "plt.close()  # Close the plot to free memory\n",
        "\n",
        "print(\"t-SNE clustering plot saved as 'tsne_clustering_plot.png'\")\n"
      ]
    },
    {
      "cell_type": "code",
      "execution_count": null,
      "metadata": {
        "id": "_ZYphleiMWyG"
      },
      "outputs": [],
      "source": [
        "plt.show()"
      ]
    },
    {
      "cell_type": "code",
      "execution_count": null,
      "metadata": {
        "colab": {
          "base_uri": "https://localhost:8080/",
          "height": 564
        },
        "id": "fm0k6_5La3Uc",
        "outputId": "8a386d1a-4ac0-4a1f-e18c-8dde8acf0797"
      },
      "outputs": [
        {
          "data": {
            "image/png": "[encoded data removed]",
            "text/plain": [
              "<Figure size 1000x600 with 2 Axes>"
            ]
          },
          "metadata": {},
          "output_type": "display_data"
        }
      ],
      "source": [
        "import pandas as pd\n",
        "import matplotlib.pyplot as plt\n",
        "from sklearn.decomposition import PCA\n",
        "from sklearn.cluster import KMeans\n",
        "\n",
        "# Assuming resampled_df is already defined and has the features\n",
        "X = resampled_df.drop('label', axis=1)  # Features\n",
        "\n",
        "# 1. Apply PCA to reduce dimensions to 2\n",
        "pca = PCA(n_components=2)\n",
        "X_pca = pca.fit_transform(X)\n",
        "\n",
        "# 2. Perform KMeans clustering with n_clusters=2\n",
        "kmeans = KMeans(n_clusters=2, random_state=42)\n",
        "clusters = kmeans.fit_predict(X_pca)\n",
        "\n",
        "# 3. Plot the results\n",
        "plt.figure(figsize=(10, 6))\n",
        "scatter = plt.scatter(X_pca[:, 0], X_pca[:, 1], c=clusters, cmap='viridis', alpha=0.5)\n",
        "plt.title('PCA Clustering Representation (n_clusters=2)')\n",
        "plt.xlabel('PCA Component 1')\n",
        "plt.ylabel('PCA Component 2')\n",
        "plt.colorbar(scatter, label='Cluster Label')\n",
        "plt.grid()\n",
        "\n",
        "# Show the plot\n",
        "plt.show()\n"
      ]
    },
    {
      "cell_type": "code",
      "execution_count": null,
      "metadata": {
        "id": "IECKyWfZbM8g"
      },
      "outputs": [],
      "source": []
    }
  ],
  "metadata": {
    "colab": {
      "provenance": []
    },
    "kernelspec": {
      "display_name": "Python 3",
      "name": "python3"
    },
    "language_info": {
      "name": "python"
    }
  },
  "nbformat": 4,
  "nbformat_minor": 0
}